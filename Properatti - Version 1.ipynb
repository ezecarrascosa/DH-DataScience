{
 "cells": [
  {
   "cell_type": "code",
   "execution_count": null,
   "metadata": {},
   "outputs": [],
   "source": [
    "#importando librerias que se piensan utilizar\n",
    "import numpy as np\n",
    "import pandas as pd\n",
    "import seaborn as sns\n",
    "import unidecode\n",
    "import re\n"
   ]
  },
  {
   "cell_type": "code",
   "execution_count": 65,
   "metadata": {},
   "outputs": [],
   "source": [
    "#Visualizar los primero prrimeros registros\n",
    "df_properatti = pd.read_csv('properatti.csv')\n"
   ]
  },
  {
   "cell_type": "code",
   "execution_count": 66,
   "metadata": {},
   "outputs": [],
   "source": [
    "#renombrado primer columana que no tiene nombre\n",
    "df_properatti.rename(columns={'Unnamed: 0':'id'}, inplace=True)\n"
   ]
  },
  {
   "cell_type": "code",
   "execution_count": 67,
   "metadata": {},
   "outputs": [],
   "source": [
    "#Me quedo con las operaciones de solo venta\n",
    "df_properatti = df_properatti[df_properatti[\"operation\"] == \"sell\"].copy()\n"
   ]
  },
  {
   "cell_type": "code",
   "execution_count": 68,
   "metadata": {},
   "outputs": [],
   "source": [
    "#Elimino columnas irrelevantes\n",
    "df_properatti_new = df_properatti.drop([\"properati_url\", \"image_thumbnail\",\"expenses\",\"geonames_id\"], axis=1)"
   ]
  },
  {
   "cell_type": "code",
   "execution_count": 69,
   "metadata": {},
   "outputs": [
    {
     "data": {
      "text/plain": [
       "id                              0\n",
       "operation                       0\n",
       "property_type                   0\n",
       "place_name                     23\n",
       "place_with_parent_names         0\n",
       "                            ...  \n",
       "expenses                   106958\n",
       "properati_url                   0\n",
       "description                     2\n",
       "title                           0\n",
       "image_thumbnail              3112\n",
       "Length: 26, dtype: int64"
      ]
     },
     "execution_count": 69,
     "metadata": {},
     "output_type": "execute_result"
    }
   ],
   "source": [
    "#chequeo valores nulos\n",
    "df_properatti.isnull().sum()"
   ]
  },
  {
   "cell_type": "code",
   "execution_count": 70,
   "metadata": {},
   "outputs": [],
   "source": [
    "#Genero un array con las series pais, el estado y el barrio, hago esto porque  place_with_parent_names no tiene valores nulos\n",
    "ls = [i.split('|') for i in df_properatti_new['place_with_parent_names']]"
   ]
  },
  {
   "cell_type": "code",
   "execution_count": 71,
   "metadata": {},
   "outputs": [],
   "source": [
    "# instancio 3 listas vacias para cada variable dentro de la lista de listas\n",
    "country = []\n",
    "state = []\n",
    "neighbourhood = []\n",
    "\n",
    "# recorro cada lista dentro de la lista grande e incorporo la variable correspondiente a la nueva lista vacía\n",
    "for i in ls:\n",
    "    country.append(i[1])\n",
    "    state.append((i[2]))\n",
    "    neighbourhood.append((i[3]))"
   ]
  },
  {
   "cell_type": "code",
   "execution_count": 72,
   "metadata": {},
   "outputs": [],
   "source": [
    "# creo una nueva columna dentro del dataset con las nuevas variables (pais, estado y barrio)\n",
    "df_properatti_new['country'] = country\n",
    "df_properatti_new['state'] = state\n",
    "df_properatti_new['neighbourhood'] = neighbourhood"
   ]
  },
  {
   "cell_type": "code",
   "execution_count": 73,
   "metadata": {},
   "outputs": [],
   "source": [
    "#Vuevlo a borrar columnas irrelevantes\n",
    "df_properatti_new = df_properatti_new.drop([\"place_with_parent_names\",\"place_name\",\"state_name\",\"country_name\"], axis=1)"
   ]
  },
  {
   "cell_type": "code",
   "execution_count": 74,
   "metadata": {},
   "outputs": [
    {
     "data": {
      "text/html": [
       "<div>\n",
       "<style scoped>\n",
       "    .dataframe tbody tr th:only-of-type {\n",
       "        vertical-align: middle;\n",
       "    }\n",
       "\n",
       "    .dataframe tbody tr th {\n",
       "        vertical-align: top;\n",
       "    }\n",
       "\n",
       "    .dataframe thead th {\n",
       "        text-align: right;\n",
       "    }\n",
       "</style>\n",
       "<table border=\"1\" class=\"dataframe\">\n",
       "  <thead>\n",
       "    <tr style=\"text-align: right;\">\n",
       "      <th></th>\n",
       "      <th>id</th>\n",
       "      <th>operation</th>\n",
       "      <th>property_type</th>\n",
       "      <th>lat-lon</th>\n",
       "      <th>lat</th>\n",
       "      <th>lon</th>\n",
       "      <th>price</th>\n",
       "      <th>currency</th>\n",
       "      <th>price_aprox_local_currency</th>\n",
       "      <th>price_aprox_usd</th>\n",
       "      <th>...</th>\n",
       "      <th>surface_covered_in_m2</th>\n",
       "      <th>price_usd_per_m2</th>\n",
       "      <th>price_per_m2</th>\n",
       "      <th>floor</th>\n",
       "      <th>rooms</th>\n",
       "      <th>description</th>\n",
       "      <th>title</th>\n",
       "      <th>country</th>\n",
       "      <th>state</th>\n",
       "      <th>neighbourhood</th>\n",
       "    </tr>\n",
       "  </thead>\n",
       "  <tbody>\n",
       "    <tr>\n",
       "      <th>0</th>\n",
       "      <td>0</td>\n",
       "      <td>sell</td>\n",
       "      <td>PH</td>\n",
       "      <td>-34.6618237,-58.5088387</td>\n",
       "      <td>-34.661824</td>\n",
       "      <td>-58.508839</td>\n",
       "      <td>62000.0</td>\n",
       "      <td>USD</td>\n",
       "      <td>1093959.0</td>\n",
       "      <td>62000.0</td>\n",
       "      <td>...</td>\n",
       "      <td>40.0</td>\n",
       "      <td>1127.272727</td>\n",
       "      <td>1550.000000</td>\n",
       "      <td>NaN</td>\n",
       "      <td>NaN</td>\n",
       "      <td>2 AMBIENTES TIPO CASA PLANTA BAJA POR PASILLO,...</td>\n",
       "      <td>2 AMB TIPO CASA SIN EXPENSAS EN PB</td>\n",
       "      <td>Argentina</td>\n",
       "      <td>Capital Federal</td>\n",
       "      <td>Mataderos</td>\n",
       "    </tr>\n",
       "    <tr>\n",
       "      <th>1</th>\n",
       "      <td>1</td>\n",
       "      <td>sell</td>\n",
       "      <td>apartment</td>\n",
       "      <td>-34.9038831,-57.9643295</td>\n",
       "      <td>-34.903883</td>\n",
       "      <td>-57.964330</td>\n",
       "      <td>150000.0</td>\n",
       "      <td>USD</td>\n",
       "      <td>2646675.0</td>\n",
       "      <td>150000.0</td>\n",
       "      <td>...</td>\n",
       "      <td>NaN</td>\n",
       "      <td>NaN</td>\n",
       "      <td>NaN</td>\n",
       "      <td>NaN</td>\n",
       "      <td>NaN</td>\n",
       "      <td>Venta de departamento en décimo piso al frente...</td>\n",
       "      <td>VENTA Depto 2 dorm. a estrenar 7 e/ 36 y 37   ...</td>\n",
       "      <td>Argentina</td>\n",
       "      <td>Bs.As. G.B.A. Zona Sur</td>\n",
       "      <td>La Plata</td>\n",
       "    </tr>\n",
       "    <tr>\n",
       "      <th>2</th>\n",
       "      <td>2</td>\n",
       "      <td>sell</td>\n",
       "      <td>apartment</td>\n",
       "      <td>-34.6522615,-58.5229825</td>\n",
       "      <td>-34.652262</td>\n",
       "      <td>-58.522982</td>\n",
       "      <td>72000.0</td>\n",
       "      <td>USD</td>\n",
       "      <td>1270404.0</td>\n",
       "      <td>72000.0</td>\n",
       "      <td>...</td>\n",
       "      <td>55.0</td>\n",
       "      <td>1309.090909</td>\n",
       "      <td>1309.090909</td>\n",
       "      <td>NaN</td>\n",
       "      <td>NaN</td>\n",
       "      <td>2 AMBIENTES 3ER PISO LATERAL LIVING COMEDOR AM...</td>\n",
       "      <td>2 AMB 3ER PISO CON ASCENSOR APTO CREDITO</td>\n",
       "      <td>Argentina</td>\n",
       "      <td>Capital Federal</td>\n",
       "      <td>Mataderos</td>\n",
       "    </tr>\n",
       "    <tr>\n",
       "      <th>3</th>\n",
       "      <td>3</td>\n",
       "      <td>sell</td>\n",
       "      <td>PH</td>\n",
       "      <td>-34.6477969,-58.5164244</td>\n",
       "      <td>-34.647797</td>\n",
       "      <td>-58.516424</td>\n",
       "      <td>95000.0</td>\n",
       "      <td>USD</td>\n",
       "      <td>1676227.5</td>\n",
       "      <td>95000.0</td>\n",
       "      <td>...</td>\n",
       "      <td>NaN</td>\n",
       "      <td>NaN</td>\n",
       "      <td>NaN</td>\n",
       "      <td>NaN</td>\n",
       "      <td>NaN</td>\n",
       "      <td>PH 3 ambientes con patio. Hay 3 deptos en lote...</td>\n",
       "      <td>PH 3 amb. cfte. reciclado</td>\n",
       "      <td>Argentina</td>\n",
       "      <td>Capital Federal</td>\n",
       "      <td>Liniers</td>\n",
       "    </tr>\n",
       "    <tr>\n",
       "      <th>4</th>\n",
       "      <td>4</td>\n",
       "      <td>sell</td>\n",
       "      <td>apartment</td>\n",
       "      <td>-38.0026256,-57.5494468</td>\n",
       "      <td>-38.002626</td>\n",
       "      <td>-57.549447</td>\n",
       "      <td>64000.0</td>\n",
       "      <td>USD</td>\n",
       "      <td>1129248.0</td>\n",
       "      <td>64000.0</td>\n",
       "      <td>...</td>\n",
       "      <td>35.0</td>\n",
       "      <td>1828.571429</td>\n",
       "      <td>1828.571429</td>\n",
       "      <td>NaN</td>\n",
       "      <td>NaN</td>\n",
       "      <td>DEPARTAMENTO CON FANTÁSTICA ILUMINACIÓN NATURA...</td>\n",
       "      <td>DEPTO 2 AMB AL CONTRAFRENTE ZONA CENTRO/PLAZA ...</td>\n",
       "      <td>Argentina</td>\n",
       "      <td>Buenos Aires Costa Atlántica</td>\n",
       "      <td>Mar del Plata</td>\n",
       "    </tr>\n",
       "  </tbody>\n",
       "</table>\n",
       "<p>5 rows × 21 columns</p>\n",
       "</div>"
      ],
      "text/plain": [
       "   id operation property_type                  lat-lon        lat        lon  \\\n",
       "0   0      sell            PH  -34.6618237,-58.5088387 -34.661824 -58.508839   \n",
       "1   1      sell     apartment  -34.9038831,-57.9643295 -34.903883 -57.964330   \n",
       "2   2      sell     apartment  -34.6522615,-58.5229825 -34.652262 -58.522982   \n",
       "3   3      sell            PH  -34.6477969,-58.5164244 -34.647797 -58.516424   \n",
       "4   4      sell     apartment  -38.0026256,-57.5494468 -38.002626 -57.549447   \n",
       "\n",
       "      price currency  price_aprox_local_currency  price_aprox_usd  \\\n",
       "0   62000.0      USD                   1093959.0          62000.0   \n",
       "1  150000.0      USD                   2646675.0         150000.0   \n",
       "2   72000.0      USD                   1270404.0          72000.0   \n",
       "3   95000.0      USD                   1676227.5          95000.0   \n",
       "4   64000.0      USD                   1129248.0          64000.0   \n",
       "\n",
       "       ...        surface_covered_in_m2  price_usd_per_m2  price_per_m2  \\\n",
       "0      ...                         40.0       1127.272727   1550.000000   \n",
       "1      ...                          NaN               NaN           NaN   \n",
       "2      ...                         55.0       1309.090909   1309.090909   \n",
       "3      ...                          NaN               NaN           NaN   \n",
       "4      ...                         35.0       1828.571429   1828.571429   \n",
       "\n",
       "   floor  rooms                                        description  \\\n",
       "0    NaN    NaN  2 AMBIENTES TIPO CASA PLANTA BAJA POR PASILLO,...   \n",
       "1    NaN    NaN  Venta de departamento en décimo piso al frente...   \n",
       "2    NaN    NaN  2 AMBIENTES 3ER PISO LATERAL LIVING COMEDOR AM...   \n",
       "3    NaN    NaN  PH 3 ambientes con patio. Hay 3 deptos en lote...   \n",
       "4    NaN    NaN  DEPARTAMENTO CON FANTÁSTICA ILUMINACIÓN NATURA...   \n",
       "\n",
       "                                               title    country  \\\n",
       "0                 2 AMB TIPO CASA SIN EXPENSAS EN PB  Argentina   \n",
       "1  VENTA Depto 2 dorm. a estrenar 7 e/ 36 y 37   ...  Argentina   \n",
       "2           2 AMB 3ER PISO CON ASCENSOR APTO CREDITO  Argentina   \n",
       "3                       PH 3 amb. cfte. reciclado     Argentina   \n",
       "4  DEPTO 2 AMB AL CONTRAFRENTE ZONA CENTRO/PLAZA ...  Argentina   \n",
       "\n",
       "                          state  neighbourhood  \n",
       "0               Capital Federal      Mataderos  \n",
       "1        Bs.As. G.B.A. Zona Sur       La Plata  \n",
       "2               Capital Federal      Mataderos  \n",
       "3               Capital Federal        Liniers  \n",
       "4  Buenos Aires Costa Atlántica  Mar del Plata  \n",
       "\n",
       "[5 rows x 21 columns]"
      ]
     },
     "execution_count": 74,
     "metadata": {},
     "output_type": "execute_result"
    }
   ],
   "source": [
    "df_properatti_new.head()"
   ]
  },
  {
   "cell_type": "code",
   "execution_count": 62,
   "metadata": {},
   "outputs": [
    {
     "data": {
      "text/plain": [
       "id                      0\n",
       "operation               0\n",
       "property_type           0\n",
       "place_name             23\n",
       "country_name            0\n",
       "                    ...  \n",
       "expenses           106958\n",
       "properati_url           0\n",
       "description             2\n",
       "title                   0\n",
       "image_thumbnail      3112\n",
       "Length: 25, dtype: int64"
      ]
     },
     "execution_count": 62,
     "metadata": {},
     "output_type": "execute_result"
    }
   ],
   "source": [
    "df_properatti_new.isnull().sum()"
   ]
  },
  {
   "cell_type": "code",
   "execution_count": 95,
   "metadata": {},
   "outputs": [
    {
     "data": {
      "text/html": [
       "<div style=\"width:100%;\"><div style=\"position:relative;width:100%;height:0;padding-bottom:60%;\"><iframe src=\"data:text/html;charset=utf-8;base64,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\" style=\"position:absolute;width:100%;height:100%;left:0;top:0;border:none !important;\" allowfullscreen webkitallowfullscreen mozallowfullscreen></iframe></div></div>"
      ],
      "text/plain": [
       "<folium.folium.Map at 0x7f379ab0fda0>"
      ]
     },
     "execution_count": 95,
     "metadata": {},
     "output_type": "execute_result"
    }
   ],
   "source": [
    "# To Pickle\n",
    "#df_properatti.to_pickle('df.plk')\n",
    "#pd.read_pickle('df.plk')"
   ]
  },
  {
   "cell_type": "code",
   "execution_count": 84,
   "metadata": {},
   "outputs": [],
   "source": [
    "a = eval('{\"type\": \"FeatureCollection\", \"features\": [{\"id\": \"0\", \"type\": \"Feature\", \"properties\": {}, \"geometry\": {\"type\": \"Point\", \"coordinates\": [-58.43580948691157, -34.577526346867664]}, \"bbox\": [-58.43580948691157, -34.577526346867664, -58.43580948691157, -34.577526346867664]}], \"bbox\": [-58.43580948691157, -34.577526346867664, -58.43580948691157, -34.577526346867664]}')"
   ]
  },
  {
   "cell_type": "code",
   "execution_count": 91,
   "metadata": {},
   "outputs": [],
   "source": [
    "b = eval('{\"type\": \"FeatureCollection\", \"features\": [{\"id\": \"14313\", \"type\": \"Feature\", \"properties\": {}, \"geometry\": {\"type\": \"Point\", \"coordinates\": [-34.589236, -58.59469]}, \"bbox\": [-34.589236, -58.59469, -34.589236, -58.59469]}], \"bbox\": [-34.589236, -58.59469, -34.589236, -58.59469]}' )"
   ]
  },
  {
   "cell_type": "code",
   "execution_count": 94,
   "metadata": {},
   "outputs": [
    {
     "data": {
      "text/plain": [
       "[{'id': '0',\n",
       "  'type': 'Feature',\n",
       "  'properties': {},\n",
       "  'geometry': {'type': 'Point',\n",
       "   'coordinates': [-58.43580948691157, -34.577526346867664]},\n",
       "  'bbox': [-58.43580948691157,\n",
       "   -34.577526346867664,\n",
       "   -58.43580948691157,\n",
       "   -34.577526346867664]}]"
      ]
     },
     "execution_count": 94,
     "metadata": {},
     "output_type": "execute_result"
    }
   ],
   "source": [
    "a['features']"
   ]
  },
  {
   "cell_type": "code",
   "execution_count": 93,
   "metadata": {},
   "outputs": [
    {
     "data": {
      "text/plain": [
       "[{'id': '14313',\n",
       "  'type': 'Feature',\n",
       "  'properties': {},\n",
       "  'geometry': {'type': 'Point', 'coordinates': [-34.589236, -58.59469]},\n",
       "  'bbox': [-34.589236, -58.59469, -34.589236, -58.59469]}]"
      ]
     },
     "execution_count": 93,
     "metadata": {},
     "output_type": "execute_result"
    }
   ],
   "source": [
    "b['features']"
   ]
  },
  {
   "cell_type": "code",
   "execution_count": null,
   "metadata": {},
   "outputs": [],
   "source": []
  }
 ],
 "metadata": {
  "kernelspec": {
   "display_name": "Python 3",
   "language": "python",
   "name": "python3"
  }
 },
 "nbformat": 4,
 "nbformat_minor": 2
}
