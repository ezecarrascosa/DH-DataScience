{
 "cells": [
  {
   "cell_type": "code",
   "execution_count": null,
   "metadata": {},
   "outputs": [],
   "source": [
    "#importando librerias que se piensan utilizar\n",
    "import numpy as np\n",
    "import pandas as pd\n",
    "import seaborn as sns\n",
    "import re"
   ]
  },
  {
   "cell_type": "code",
   "execution_count": null,
   "metadata": {},
   "outputs": [],
   "source": [
    "propiedades = pd.read_csv('properatti.csv', decimal=\".\")\n"
   ]
  },
  {
   "cell_type": "code",
   "execution_count": null,
   "metadata": {},
   "outputs": [],
   "source": [
    "#renombro columna sin nombre\n",
    "propiedades.rename(columns={'Unnamed: 0':'id'}, inplace=True)"
   ]
  },
  {
   "cell_type": "code",
   "execution_count": null,
   "metadata": {},
   "outputs": [],
   "source": [
    "#Analizamos los datos del evaluador de properati y nos quedamos con los campos \n",
    "#ubicacion\n",
    "#tipo de propiedad\n",
    "#Ambientes\n",
    "#Cantidad de baños\n",
    "#superficie cubierta total\n",
    "#superficie descubierta total\n",
    "#cochera y amenities"
   ]
  },
  {
   "cell_type": "code",
   "execution_count": null,
   "metadata": {},
   "outputs": [],
   "source": []
  },
  {
   "cell_type": "code",
   "execution_count": null,
   "metadata": {},
   "outputs": [],
   "source": [
    "#Nos quedamos con las columnas que nos importan \n",
    "df_prop = propiedades[[\"id\",\"place_with_parent_names\",\"place_name\",\"property_type\", \"rooms\",\"surface_total_in_m2\", \"surface_covered_in_m2\", \"lat-lon\",\"description\",\"title\",\"price\",\"price_usd_per_m2\",\"currency\"]]"
   ]
  },
  {
   "cell_type": "code",
   "execution_count": null,
   "metadata": {},
   "outputs": [],
   "source": [
    "# Verifico duplicados\n",
    "print('DF sin duplicados:',df_prop.duplicated(subset=None, keep='first').shape)\n",
    "print('DF Properatti:', df_prop[['place_with_parent_names']].shape)\n"
   ]
  },
  {
   "cell_type": "code",
   "execution_count": null,
   "metadata": {},
   "outputs": [],
   "source": [
    "#Borramos registros con valores duplicadios\n",
    "df_prop_sin_d = df_prop.drop_duplicates(['place_with_parent_names', \n",
    "                          'description', 'title', \n",
    "                          'rooms',\n",
    "                          'surface_total_in_m2'], keep='first')\n",
    "\n",
    "print('DF Properatti:', df_prop_sin_d[['place_with_parent_names']].shape)"
   ]
  },
  {
   "cell_type": "code",
   "execution_count": null,
   "metadata": {},
   "outputs": [],
   "source": [
    "#una vez borrados los duplicados validmos los datos nulos\n",
    "df_prop_sin_d.isnull().sum()"
   ]
  },
  {
   "cell_type": "code",
   "execution_count": null,
   "metadata": {},
   "outputs": [],
   "source": [
    "df_prop_sin_d.drop([107390,50387,50388])"
   ]
  },
  {
   "cell_type": "code",
   "execution_count": null,
   "metadata": {},
   "outputs": [],
   "source": [
    "df_prop_sin_d"
   ]
  },
  {
   "cell_type": "code",
   "execution_count": null,
   "metadata": {},
   "outputs": [],
   "source": []
  }
 ],
 "metadata": {
  "kernelspec": {
   "display_name": "Python 3",
   "language": "python",
   "name": "python3"
  }
 },
 "nbformat": 4,
 "nbformat_minor": 2
}
