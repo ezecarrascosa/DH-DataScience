{
 "cells": [
  {
   "cell_type": "code",
   "execution_count": 101,
   "metadata": {},
   "outputs": [],
   "source": [
    "import pandas as pd\n",
    "import numpy as np\n",
    "\n",
    "import seaborn as sns\n",
    "import matplotlib.pyplot as plt\n",
    "%matplotlib inline"
   ]
  },
  {
   "cell_type": "code",
   "execution_count": 2,
   "metadata": {},
   "outputs": [],
   "source": [
    "#Leo file y lo guardo en un DF inicial\n",
    "df_properatti = pd.read_csv('properatti.csv')"
   ]
  },
  {
   "cell_type": "code",
   "execution_count": 5,
   "metadata": {},
   "outputs": [
    {
     "data": {
      "text/html": [
       "<div>\n",
       "<style scoped>\n",
       "    .dataframe tbody tr th:only-of-type {\n",
       "        vertical-align: middle;\n",
       "    }\n",
       "\n",
       "    .dataframe tbody tr th {\n",
       "        vertical-align: top;\n",
       "    }\n",
       "\n",
       "    .dataframe thead th {\n",
       "        text-align: right;\n",
       "    }\n",
       "</style>\n",
       "<table border=\"1\" class=\"dataframe\">\n",
       "  <thead>\n",
       "    <tr style=\"text-align: right;\">\n",
       "      <th></th>\n",
       "      <th>Unnamed: 0</th>\n",
       "      <th>operation</th>\n",
       "      <th>property_type</th>\n",
       "      <th>place_name</th>\n",
       "      <th>place_with_parent_names</th>\n",
       "      <th>country_name</th>\n",
       "      <th>state_name</th>\n",
       "      <th>geonames_id</th>\n",
       "      <th>lat-lon</th>\n",
       "      <th>lat</th>\n",
       "      <th>...</th>\n",
       "      <th>surface_covered_in_m2</th>\n",
       "      <th>price_usd_per_m2</th>\n",
       "      <th>price_per_m2</th>\n",
       "      <th>floor</th>\n",
       "      <th>rooms</th>\n",
       "      <th>expenses</th>\n",
       "      <th>properati_url</th>\n",
       "      <th>description</th>\n",
       "      <th>title</th>\n",
       "      <th>image_thumbnail</th>\n",
       "    </tr>\n",
       "  </thead>\n",
       "  <tbody>\n",
       "    <tr>\n",
       "      <th>0</th>\n",
       "      <td>0</td>\n",
       "      <td>sell</td>\n",
       "      <td>PH</td>\n",
       "      <td>Mataderos</td>\n",
       "      <td>|Argentina|Capital Federal|Mataderos|</td>\n",
       "      <td>Argentina</td>\n",
       "      <td>Capital Federal</td>\n",
       "      <td>3430787.0</td>\n",
       "      <td>-34.6618237,-58.5088387</td>\n",
       "      <td>-34.661824</td>\n",
       "      <td>...</td>\n",
       "      <td>40.0</td>\n",
       "      <td>1127.272727</td>\n",
       "      <td>1550.000000</td>\n",
       "      <td>NaN</td>\n",
       "      <td>NaN</td>\n",
       "      <td>NaN</td>\n",
       "      <td>http://www.properati.com.ar/15bo8_venta_ph_mat...</td>\n",
       "      <td>2 AMBIENTES TIPO CASA PLANTA BAJA POR PASILLO,...</td>\n",
       "      <td>2 AMB TIPO CASA SIN EXPENSAS EN PB</td>\n",
       "      <td>https://thumbs4.properati.com/8/BluUYiHJLhgIIK...</td>\n",
       "    </tr>\n",
       "    <tr>\n",
       "      <th>1</th>\n",
       "      <td>1</td>\n",
       "      <td>sell</td>\n",
       "      <td>apartment</td>\n",
       "      <td>La Plata</td>\n",
       "      <td>|Argentina|Bs.As. G.B.A. Zona Sur|La Plata|</td>\n",
       "      <td>Argentina</td>\n",
       "      <td>Bs.As. G.B.A. Zona Sur</td>\n",
       "      <td>3432039.0</td>\n",
       "      <td>-34.9038831,-57.9643295</td>\n",
       "      <td>-34.903883</td>\n",
       "      <td>...</td>\n",
       "      <td>NaN</td>\n",
       "      <td>NaN</td>\n",
       "      <td>NaN</td>\n",
       "      <td>NaN</td>\n",
       "      <td>NaN</td>\n",
       "      <td>NaN</td>\n",
       "      <td>http://www.properati.com.ar/15bob_venta_depart...</td>\n",
       "      <td>Venta de departamento en décimo piso al frente...</td>\n",
       "      <td>VENTA Depto 2 dorm. a estrenar 7 e/ 36 y 37   ...</td>\n",
       "      <td>https://thumbs4.properati.com/7/ikpVBu2ztHA7jv...</td>\n",
       "    </tr>\n",
       "    <tr>\n",
       "      <th>2</th>\n",
       "      <td>2</td>\n",
       "      <td>sell</td>\n",
       "      <td>apartment</td>\n",
       "      <td>Mataderos</td>\n",
       "      <td>|Argentina|Capital Federal|Mataderos|</td>\n",
       "      <td>Argentina</td>\n",
       "      <td>Capital Federal</td>\n",
       "      <td>3430787.0</td>\n",
       "      <td>-34.6522615,-58.5229825</td>\n",
       "      <td>-34.652262</td>\n",
       "      <td>...</td>\n",
       "      <td>55.0</td>\n",
       "      <td>1309.090909</td>\n",
       "      <td>1309.090909</td>\n",
       "      <td>NaN</td>\n",
       "      <td>NaN</td>\n",
       "      <td>NaN</td>\n",
       "      <td>http://www.properati.com.ar/15bod_venta_depart...</td>\n",
       "      <td>2 AMBIENTES 3ER PISO LATERAL LIVING COMEDOR AM...</td>\n",
       "      <td>2 AMB 3ER PISO CON ASCENSOR APTO CREDITO</td>\n",
       "      <td>https://thumbs4.properati.com/5/SXKr34F_IwG3W_...</td>\n",
       "    </tr>\n",
       "    <tr>\n",
       "      <th>3</th>\n",
       "      <td>3</td>\n",
       "      <td>sell</td>\n",
       "      <td>PH</td>\n",
       "      <td>Liniers</td>\n",
       "      <td>|Argentina|Capital Federal|Liniers|</td>\n",
       "      <td>Argentina</td>\n",
       "      <td>Capital Federal</td>\n",
       "      <td>3431333.0</td>\n",
       "      <td>-34.6477969,-58.5164244</td>\n",
       "      <td>-34.647797</td>\n",
       "      <td>...</td>\n",
       "      <td>NaN</td>\n",
       "      <td>NaN</td>\n",
       "      <td>NaN</td>\n",
       "      <td>NaN</td>\n",
       "      <td>NaN</td>\n",
       "      <td>NaN</td>\n",
       "      <td>http://www.properati.com.ar/15boh_venta_ph_lin...</td>\n",
       "      <td>PH 3 ambientes con patio. Hay 3 deptos en lote...</td>\n",
       "      <td>PH 3 amb. cfte. reciclado</td>\n",
       "      <td>https://thumbs4.properati.com/3/DgIfX-85Mog5SP...</td>\n",
       "    </tr>\n",
       "    <tr>\n",
       "      <th>4</th>\n",
       "      <td>4</td>\n",
       "      <td>sell</td>\n",
       "      <td>apartment</td>\n",
       "      <td>Centro</td>\n",
       "      <td>|Argentina|Buenos Aires Costa Atlántica|Mar de...</td>\n",
       "      <td>Argentina</td>\n",
       "      <td>Buenos Aires Costa Atlántica</td>\n",
       "      <td>3435548.0</td>\n",
       "      <td>-38.0026256,-57.5494468</td>\n",
       "      <td>-38.002626</td>\n",
       "      <td>...</td>\n",
       "      <td>35.0</td>\n",
       "      <td>1828.571429</td>\n",
       "      <td>1828.571429</td>\n",
       "      <td>NaN</td>\n",
       "      <td>NaN</td>\n",
       "      <td>NaN</td>\n",
       "      <td>http://www.properati.com.ar/15bok_venta_depart...</td>\n",
       "      <td>DEPARTAMENTO CON FANTÁSTICA ILUMINACIÓN NATURA...</td>\n",
       "      <td>DEPTO 2 AMB AL CONTRAFRENTE ZONA CENTRO/PLAZA ...</td>\n",
       "      <td>https://thumbs4.properati.com/5/xrRqlNcSI_vs-f...</td>\n",
       "    </tr>\n",
       "  </tbody>\n",
       "</table>\n",
       "<p>5 rows × 26 columns</p>\n",
       "</div>"
      ],
      "text/plain": [
       "   Unnamed: 0 operation property_type place_name  \\\n",
       "0           0      sell            PH  Mataderos   \n",
       "1           1      sell     apartment   La Plata   \n",
       "2           2      sell     apartment  Mataderos   \n",
       "3           3      sell            PH    Liniers   \n",
       "4           4      sell     apartment     Centro   \n",
       "\n",
       "                             place_with_parent_names country_name  \\\n",
       "0              |Argentina|Capital Federal|Mataderos|    Argentina   \n",
       "1        |Argentina|Bs.As. G.B.A. Zona Sur|La Plata|    Argentina   \n",
       "2              |Argentina|Capital Federal|Mataderos|    Argentina   \n",
       "3                |Argentina|Capital Federal|Liniers|    Argentina   \n",
       "4  |Argentina|Buenos Aires Costa Atlántica|Mar de...    Argentina   \n",
       "\n",
       "                     state_name  geonames_id                  lat-lon  \\\n",
       "0               Capital Federal    3430787.0  -34.6618237,-58.5088387   \n",
       "1        Bs.As. G.B.A. Zona Sur    3432039.0  -34.9038831,-57.9643295   \n",
       "2               Capital Federal    3430787.0  -34.6522615,-58.5229825   \n",
       "3               Capital Federal    3431333.0  -34.6477969,-58.5164244   \n",
       "4  Buenos Aires Costa Atlántica    3435548.0  -38.0026256,-57.5494468   \n",
       "\n",
       "         lat                        ...                          \\\n",
       "0 -34.661824                        ...                           \n",
       "1 -34.903883                        ...                           \n",
       "2 -34.652262                        ...                           \n",
       "3 -34.647797                        ...                           \n",
       "4 -38.002626                        ...                           \n",
       "\n",
       "   surface_covered_in_m2  price_usd_per_m2 price_per_m2  floor  rooms  \\\n",
       "0                   40.0       1127.272727  1550.000000    NaN    NaN   \n",
       "1                    NaN               NaN          NaN    NaN    NaN   \n",
       "2                   55.0       1309.090909  1309.090909    NaN    NaN   \n",
       "3                    NaN               NaN          NaN    NaN    NaN   \n",
       "4                   35.0       1828.571429  1828.571429    NaN    NaN   \n",
       "\n",
       "   expenses                                      properati_url  \\\n",
       "0       NaN  http://www.properati.com.ar/15bo8_venta_ph_mat...   \n",
       "1       NaN  http://www.properati.com.ar/15bob_venta_depart...   \n",
       "2       NaN  http://www.properati.com.ar/15bod_venta_depart...   \n",
       "3       NaN  http://www.properati.com.ar/15boh_venta_ph_lin...   \n",
       "4       NaN  http://www.properati.com.ar/15bok_venta_depart...   \n",
       "\n",
       "                                         description  \\\n",
       "0  2 AMBIENTES TIPO CASA PLANTA BAJA POR PASILLO,...   \n",
       "1  Venta de departamento en décimo piso al frente...   \n",
       "2  2 AMBIENTES 3ER PISO LATERAL LIVING COMEDOR AM...   \n",
       "3  PH 3 ambientes con patio. Hay 3 deptos en lote...   \n",
       "4  DEPARTAMENTO CON FANTÁSTICA ILUMINACIÓN NATURA...   \n",
       "\n",
       "                                               title  \\\n",
       "0                 2 AMB TIPO CASA SIN EXPENSAS EN PB   \n",
       "1  VENTA Depto 2 dorm. a estrenar 7 e/ 36 y 37   ...   \n",
       "2           2 AMB 3ER PISO CON ASCENSOR APTO CREDITO   \n",
       "3                       PH 3 amb. cfte. reciclado      \n",
       "4  DEPTO 2 AMB AL CONTRAFRENTE ZONA CENTRO/PLAZA ...   \n",
       "\n",
       "                                     image_thumbnail  \n",
       "0  https://thumbs4.properati.com/8/BluUYiHJLhgIIK...  \n",
       "1  https://thumbs4.properati.com/7/ikpVBu2ztHA7jv...  \n",
       "2  https://thumbs4.properati.com/5/SXKr34F_IwG3W_...  \n",
       "3  https://thumbs4.properati.com/3/DgIfX-85Mog5SP...  \n",
       "4  https://thumbs4.properati.com/5/xrRqlNcSI_vs-f...  \n",
       "\n",
       "[5 rows x 26 columns]"
      ]
     },
     "execution_count": 5,
     "metadata": {},
     "output_type": "execute_result"
    }
   ],
   "source": [
    "df_properatti.head()"
   ]
  },
  {
   "cell_type": "code",
   "execution_count": 6,
   "metadata": {},
   "outputs": [
    {
     "name": "stdout",
     "output_type": "stream",
     "text": [
      "<class 'pandas.core.frame.DataFrame'>\n",
      "RangeIndex: 25792 entries, 0 to 25791\n",
      "Data columns (total 26 columns):\n",
      "Unnamed: 0                    25792 non-null int64\n",
      "operation                     25792 non-null object\n",
      "property_type                 25792 non-null object\n",
      "place_name                    25784 non-null object\n",
      "place_with_parent_names       25792 non-null object\n",
      "country_name                  25792 non-null object\n",
      "state_name                    25792 non-null object\n",
      "geonames_id                   21463 non-null float64\n",
      "lat-lon                       21471 non-null object\n",
      "lat                           21471 non-null float64\n",
      "lon                           21471 non-null float64\n",
      "price                         20162 non-null float64\n",
      "currency                      20161 non-null object\n",
      "price_aprox_local_currency    20162 non-null float64\n",
      "price_aprox_usd               20162 non-null float64\n",
      "surface_total_in_m2           17774 non-null float64\n",
      "surface_covered_in_m2         22004 non-null float64\n",
      "price_usd_per_m2              13928 non-null float64\n",
      "price_per_m2                  17903 non-null float64\n",
      "floor                         2572 non-null float64\n",
      "rooms                         16888 non-null float64\n",
      "expenses                      1182 non-null float64\n",
      "properati_url                 25792 non-null object\n",
      "description                   25791 non-null object\n",
      "title                         25792 non-null object\n",
      "image_thumbnail               25454 non-null object\n",
      "dtypes: float64(13), int64(1), object(12)\n",
      "memory usage: 5.1+ MB\n"
     ]
    }
   ],
   "source": [
    "df_properatti.info()"
   ]
  },
  {
   "cell_type": "code",
   "execution_count": 8,
   "metadata": {},
   "outputs": [
    {
     "data": {
      "text/plain": [
       "array(['sell'], dtype=object)"
      ]
     },
     "execution_count": 8,
     "metadata": {},
     "output_type": "execute_result"
    }
   ],
   "source": [
    "df_properatti['operation'].unique()"
   ]
  },
  {
   "cell_type": "code",
   "execution_count": 11,
   "metadata": {},
   "outputs": [
    {
     "data": {
      "text/plain": [
       "array(['PH', 'apartment', 'house', 'store'], dtype=object)"
      ]
     },
     "execution_count": 11,
     "metadata": {},
     "output_type": "execute_result"
    }
   ],
   "source": [
    "df_properatti['property_type'].unique()"
   ]
  },
  {
   "cell_type": "code",
   "execution_count": 13,
   "metadata": {},
   "outputs": [
    {
     "data": {
      "text/plain": [
       "array(['Mataderos', 'La Plata', 'Liniers', 'Centro', 'Gualeguaychú',\n",
       "       'Munro', 'Belgrano', 'Rosario', 'Córdoba', 'San Miguel',\n",
       "       'Martínez', 'Palermo Soho', 'Bella Vista', 'Barrio El Golf',\n",
       "       'Tigre', 'Palermo', 'Villa Giardino', 'General Rodríguez', 'Pilar',\n",
       "       'Castelar', 'Barrio San Gabriel', 'Estancias del Pilar', 'Flores',\n",
       "       'Boedo', 'Malagueño', 'Las Cañitas', 'Del Viso',\n",
       "       'Villa Carlos Paz', 'Puerto Madero', 'Balvanera', 'Escobar',\n",
       "       'San Isidro', 'Caballito', 'Acassuso', 'Nuñez', 'Fincas de Iraola',\n",
       "       'Berazategui', 'San Martín', 'Ituzaingó', 'Mar del Plata',\n",
       "       'Posadas', 'Caseros', 'San Bernardo', 'San Telmo', 'Almagro',\n",
       "       'Nordelta', 'Capital Federal', 'Boulogne Sur Mer', 'Victoria',\n",
       "       'Pinamar', 'Benavidez', 'Beccar', 'Colón', 'Luján', 'San Lorenzo',\n",
       "       'Bs.As. G.B.A. Zona Sur', 'Lomas del Mirador', 'Lanús Este',\n",
       "       'Punilla', 'Villa Gesell', 'Banfield', 'Jose Leon Suarez', 'Salta',\n",
       "       'Olivos', 'Santa Fe', 'Colegiales', 'Exaltación de la Cruz',\n",
       "       'Floresta', 'El Talar', 'Quilmes', 'Reconquista', 'Confluencia',\n",
       "       'General Roca', 'Barrio Norte', 'Emilia', 'Belén de Escobar',\n",
       "       'Villa Maipu', 'Barracas', 'San Andres', 'Villa Bosch',\n",
       "       'Villa Allende', 'Sáenz Peña', 'Empalme Lobos', 'Ramos Mejía',\n",
       "       'San Martín de los Andes', 'Recoleta', 'Congreso', 'Villa Crespo',\n",
       "       'Chacarita', 'Constitución', 'Country Maschwitz Privado',\n",
       "       'Villa Urquiza', 'Las Golondrinas', 'Viedma', 'Merlo',\n",
       "       'Palermo Hollywood', 'Pontevedra', 'José C Paz', 'Saavedra',\n",
       "       'Monserrat', 'Barrio Las Glorietas',\n",
       "       'Barrio Cerrado Fincas de Maschwitz', 'Haedo', 'Santo Tomé',\n",
       "       'Pompeya', 'Bahía Blanca', 'San Fernando', 'Virreyes', 'Neuquén',\n",
       "       'San Carlos de Bariloche', 'Parque Chas', 'Villa Ballester',\n",
       "       'General San Martín', 'Paternal', 'Lisandro Olmos', 'Agronomía',\n",
       "       'Villa Pueyrredón', 'Coghlan', 'Parque Centenario',\n",
       "       'Vicente López', 'La Perla', 'Mendoza', 'Gobernador Benegas',\n",
       "       'Moreno', 'San Justo', 'Palermo Chico', 'Barrio Los Lagos',\n",
       "       'Bernal', 'Villa Luro', 'La Lonja', 'Buenos Aires Interior',\n",
       "       'Jose Marmol', 'Martín Coronado', 'Luján de Cuyo', 'Tolosa',\n",
       "       'Mar del Tuyú', 'Esperanza', 'Villa Devoto',\n",
       "       'Mapuche Country Club', 'Berisso', 'Villa de Mayo', 'Caisamar',\n",
       "       'Boca', 'Roosevelt', 'Manuel Alberti', 'Parque Avellaneda',\n",
       "       'Santa Barbara Barrio Cerrado', 'Rincón de Milberg', 'Enyoi',\n",
       "       'QBay Yacht', 'La Lucila', 'Barrio San Matías', 'Olivos Golf Club',\n",
       "       'Barrio La Alameda', 'Islas del Canal', 'Mayling Club de Campo',\n",
       "       'Longchamps', 'Burzaco', 'Ricardo Rojas', 'Santos Lugares',\n",
       "       'Paso de la Patria', 'Garín', 'Villa Raffo',\n",
       "       'Ciudad Jardín Lomas del Palomar', 'San Cristobal',\n",
       "       'Trenque Lauquen', 'Villa Udaondo', 'Lobos', 'Valentín Alsina',\n",
       "       'Coronel Suárez', 'Haras María Victoria', 'Cañuelas',\n",
       "       'Parque Leloir', 'Delta', 'Trelew', 'Velez Sarsfield', 'Abasto',\n",
       "       'Rafaela', 'Rada Tilly', 'Lomas de Zamora', 'Versalles',\n",
       "       'Villa del Parque', 'Paraná', 'Macrocentro', 'Monte Castro',\n",
       "       'City Bell', 'Retiro', 'Necochea', 'Monte Hermoso',\n",
       "       'Parque Patricios', 'Lácar', 'San Nicolás', 'Villa Adelina',\n",
       "       'Country San Jorge Village', 'Villa Santa Rita',\n",
       "       'General Pueyrredón', 'Apóstoles', 'Ranelagh', 'Tucumán', 'Tanti',\n",
       "       'Bella Italia', 'Villa Libertad', 'Esteban Echeverría',\n",
       "       'Plaza Colón', 'Highland Park Country Club',\n",
       "       'Balneario San Cayetano', 'Los Lagartos Country Club',\n",
       "       'Barrio Cerrado \"La Cautiva del Pilar\"', 'Yerba Buena',\n",
       "       'Nueva Atlantis', 'Morón', 'San Antonio De Padua', 'Muñiz',\n",
       "       'Santa Rosa', 'San Francisco', 'Tres Arroyos', 'Resistencia',\n",
       "       'Villa General Belgrano', 'Villa Elvira', 'Canning',\n",
       "       'Barrio Los Alisos', 'Barrio Acacias', 'La Peregrina',\n",
       "       'BarrioPortezuelo', 'Remedios de Escalada', 'Sierra de los Padres',\n",
       "       'Ostende', 'Claromecó', 'Granadero Baigorria', 'Funes',\n",
       "       'Costa Azul', 'Ezeiza', 'Florida', 'Centro / Microcentro',\n",
       "       'Zárate', 'Santa Clara del Mar', 'San Andrés de Giles',\n",
       "       'Castellanos', 'General Madariaga', 'La Granja',\n",
       "       'San Francisco Solano', 'Lanús', 'Sarandi', 'Villa Luzuriaga',\n",
       "       'Avellaneda', 'Chascomús', 'Lanús Oeste', 'Wilde',\n",
       "       'Villa Dominico', 'Monte Grande', 'Los Pingüinos Country Club',\n",
       "       'Tres de Febrero', 'San Miguel de Tucumán', 'Tafí del Valle',\n",
       "       'Oberá', 'La Matanza', 'Mar de Ajó', 'Bs.As. G.B.A. Zona Oeste',\n",
       "       'Las Talitas', 'San Francisco Club de Campo', 'Mar del Sur',\n",
       "       'Carmel Country Club', 'Once', 'Bs.As. G.B.A. Zona Norte',\n",
       "       'San Rafael', 'Cipolletti', 'Carmen de Areco', 'Tribunales',\n",
       "       'Las Tapias', 'Los Pozos', 'Comodoro Rivadavia',\n",
       "       'San Antonio de Arredondo', 'Mar Azul',\n",
       "       'Santa Rosa de Calamuchita', 'Santa Teresita', 'Potrero de Garay',\n",
       "       'Villa La Angostura', 'Hurlingham', 'Haras Santa Maria',\n",
       "       'Mendiolaza', 'Río Ceballos', 'Vistalba', 'Punta Indio',\n",
       "       'Parque Chacabuco', 'Achiras', 'Catalinas', 'La Falda',\n",
       "       'Roque Pérez', 'San Juan', 'Villa Rumipal', 'Malvinas Argentinas',\n",
       "       'Toledo', 'Godoy Cruz', 'La Lucila del Mar', 'Boca Ratón',\n",
       "       'Marcos Paz', 'Aguas Verdes', 'Cosquín', 'Villa del Dique',\n",
       "       'La Calera', 'Uspallata', 'Maipú', 'Saldán', 'La Cumbre',\n",
       "       'Las Heras', 'Barrio Ceibos', 'Colonia Tirolesa',\n",
       "       'Miraflores Country Club', 'Villa Santa Cruz del Lago',\n",
       "       'Marinas Golf Barrio Cerrado', 'Tortuguitas', 'Talar del Lago 1',\n",
       "       'Ex La Ponderosa', 'Barrio Privado El Rodal', 'Villa Tesei',\n",
       "       'Los Polvorines', 'Francisco Alvarez', 'Solares del Talar',\n",
       "       'Barrio Santa Teresa', 'Barrio San Rafael', 'Don Bosco', 'Gerli',\n",
       "       'Trevelín', 'Crucecita', 'Country Nuevo Quilmes',\n",
       "       'Barrio Cerrado \"La Delfina\"', 'El Jagüel', 'Miramar',\n",
       "       'El Nacional Club de Campo', 'Nono', 'Barranqueras', 'Loma Verde',\n",
       "       'Platanos', 'Roldán', 'Malargüe', 'Esquel', 'Uribelarrea',\n",
       "       'Derqui', 'Galapagos Country Club', 'Costa del Este',\n",
       "       'Costa Esmeralda', 'General Las Heras', 'Adrogué', 'General Lagos',\n",
       "       'Coronda', 'El Palomar', 'Tandil', 'Terravista Barrio Privado',\n",
       "       'Don Torcuato', 'Grand Bourg', 'San Pedro', 'Presidente Perón',\n",
       "       'El Canton Barrio Puerto', 'Vicente Casares', 'Guernica',\n",
       "       'Rafael Castillo', 'Villa Sarmiento', 'Nogoyá', 'Salvador María',\n",
       "       'Villa Bonich', 'Sourigues', 'Playa Unión', 'Tilisarao',\n",
       "       'San Luis', 'Barrio Parque San Martin', 'Caleta Olivia',\n",
       "       'Río Grande', 'Villa Elisa', 'Bell Ville',\n",
       "       'Barrio cerrado Santa Ana', 'Valeria del Mar', 'Luis Guillón',\n",
       "       'El Rocío', 'Concepción del Uruguay', 'Junin de los Andes',\n",
       "       'Paso del Rey', 'Barrio Parque General San Martin',\n",
       "       'Albanueva Barrio Cerrado', 'Florida Oeste',\n",
       "       'Aeropuerto Internacional Ezeiza', 'Villa Martelli', 'Balcarce',\n",
       "       'Garupá', 'Villa General Mitre', 'Mina Clavero', 'Rafael Calzada',\n",
       "       'Glew', 'Villa del Totoral', 'Dunamar', 'Barrio Santa Clara',\n",
       "       'Laguna del Sol', 'Humboldt', 'Pueblo Esther', 'Haras del Sur I',\n",
       "       'La Paz', 'Villa Rosa', 'Río Cuarto', 'Abril Club de Campo',\n",
       "       'Terminal Nueva', 'Carapachay', 'Maschwitz', 'San Vicente',\n",
       "       'Country Saint Thomas', 'Tapiales', 'Villa de Las Rosas',\n",
       "       'Coronel Brandsen', 'Campana', 'El Casco de Leloir',\n",
       "       'González Catán', 'San Miguel del Monte', 'Pinos de Anchorena',\n",
       "       'Arocena', nan, 'Los Angeles Village', 'Palermo Viejo',\n",
       "       'La horqueta de Echeverría', 'Ingeniero Pablo Nogués',\n",
       "       'Colonia Benitez', 'Manantiales', 'Gálvez', 'Lincoln',\n",
       "       'Cinco Saltos', 'Manuel B Gonnet', 'Potrero de los Funes',\n",
       "       'Juana Koslay', 'Puerto Madryn', 'Villa Lugano', 'Chapadmalal',\n",
       "       'María Grande', 'Las Palmas', 'Ciudadela', 'Gregorio de Laferrere',\n",
       "       'Barrio San Isidro Labrador', 'Los Cocos', 'Villa Madero',\n",
       "       'Capitán Sarmiento', 'Plaza Mitre', 'Los Acantilados',\n",
       "       'Talar del lago 2', 'Ingeniero Juan Allan', 'Río Primero',\n",
       "       'La Unión', 'Azul', 'Barrio La Isla', 'Pehuen-có', 'Desamparados',\n",
       "       'Santa-Catalina', 'coordenadas 34.255511', 'El Talar de Pacheco',\n",
       "       'Temperley', 'Campo Grande', 'San Clemente del Tuyú', 'Mercedes',\n",
       "       'Misiones', 'Loma Hermosa', 'Concordia', 'Carolina', 'Río Tercero',\n",
       "       'San José', 'Olavarría', 'Villa Ariza', 'Rocha', 'Pilar del Lago',\n",
       "       'Fincas de Hudson', 'Club El Carmen - Sector casas',\n",
       "       'Barrio Cerrado \"Los Ombúes de Hudson\"',\n",
       "       'GreenVille Polo & Resort', 'Altos de Hudson II',\n",
       "       'Haras del Sur II', 'Cariló', 'Los Sauces Country Club',\n",
       "       'Haras del Pilar - El Establo', 'Villa Ortuzar', 'Río Negro',\n",
       "       'El Pato Country Club', 'Campo Chico Country Club', 'San Carlos',\n",
       "       'Chubut', 'La Martinica', 'La Reja', 'Almirante Brown',\n",
       "       'Ciudad Evita', 'Isidro Casanova', 'Domselaar', 'Santa Ana',\n",
       "       'La Comarca', 'General Pacheco', 'Santa María', 'Mar Chiquita',\n",
       "       'Mar de Cobo', 'Haras del Pilar - Las Praderas 1 y 2',\n",
       "       'Santa Lucía', 'Virrey del Pino', 'Cafayate',\n",
       "       'Fincas de Iraola II', 'Ibarlucea', 'Oliva', 'Ascochinga',\n",
       "       'Playa Chica', 'Timbúes', 'Septiembre', 'Santa Isabel',\n",
       "       'El Cazador', 'Country Club Aranjuez', 'Altamira',\n",
       "       'Barrio Araucarias', 'Villa Ciudad Parque Los Reartes', 'Libertad',\n",
       "       'Pedro Luro', 'Laprida', 'Ushuaia', 'General Alvarado',\n",
       "       'La Caldera', 'San Jerónimo Norte', 'Playa Grande', 'Candelaria',\n",
       "       'Club de Campo La Martona', 'Monte Chingolo',\n",
       "       'Barrio Cerrado Las Casuarinas', 'San Antonio de Areco',\n",
       "       'Pilar Village', 'Villa Soldati', 'Corrientes', 'San Cristóbal',\n",
       "       'Iriondo', 'Barrio Los Tilos', 'Chauvín', 'Manzanares',\n",
       "       'Barrio Privado \"Ayres de Pilar\"', 'Barrio Los Sauces', 'Unquillo',\n",
       "       'Fincas de San Vicente', 'Villa Constitución',\n",
       "       'Barrio Cabos del Lago', 'Country Golf El Sosiego',\n",
       "       'Hacoaj Barrio Cerrado', 'Punta Alta',\n",
       "       'Empalme Villa Constitución', 'Los Cardales', 'Villa Mercedes',\n",
       "       'Ezpeleta', 'Los Troncos', 'Primera Junta', 'Stella Maris',\n",
       "       'Puerto', 'Güemes', 'Materno', 'Rumenco', 'Playa Varese',\n",
       "       'Laguna de los Padres', 'Parque Luro', 'Mar de las Pampas',\n",
       "       'Los Pinares', 'Bosque Peralta Ramos', 'Villa Primera',\n",
       "       'Country Banco Provincia', 'Ministro Rivadavia', 'Trujui',\n",
       "       'Torreón', 'Llavallol', 'Villa Lynch', 'Billinghurst',\n",
       "       'Grand Bell', 'Plottier', 'Monje', 'Vila Vela Terrazas al Lago',\n",
       "       'Barrio Santa Guadalupe - Pilar del Este', 'Villa Real',\n",
       "       'Monte Vera', 'Coronel Dorrego', 'Costa Uruguay Sur', 'Lima',\n",
       "       'Barbarita, Barrio Cerrado', 'La Cesarina', 'Barrio San Agustin',\n",
       "       'Florencio Varela', 'Barrio Cerrado La Masia',\n",
       "       'Barrio Cerrado \"Sausalito\"', 'Recreo',\n",
       "       'Los Pilares - Barrio Privado', 'Acacias Blancas',\n",
       "       'Saint Matthews', 'Dique Luján', 'El Remanso', 'La Angélica',\n",
       "       'Barrio Cerrado \"Los Condes\"', 'General Pico', 'Pergamino',\n",
       "       'La Tablada', 'Terminal Vieja', 'Álvarez', 'Federación',\n",
       "       'Arroyo Leyes', 'Santa Teresa', 'Tornquist', 'Bialet Massé',\n",
       "       'Comandante Nicanor Otamendi',\n",
       "       'Village Golf & Tennis Country Club', 'Ringuelet', 'Rivadavia',\n",
       "       'Martindale Country Club', 'Country Farm Club', 'La Madrugada',\n",
       "       'Barrio Cerrado \"Los Potrillos\"',\n",
       "       'Haras del Pilar - La Caballeriza', 'Altos del Golf', 'Aldo Bonzi',\n",
       "       'Dock Sud', 'Brandsen', 'Rosario de Lerma', 'San José del Rincón',\n",
       "       'Don Orione', 'Fátima', 'Almafuerte', 'Cuartel V', 'Piñeiro',\n",
       "       'Armenia Country Club', 'Santiago Del Estero', 'Rawson',\n",
       "       'Pacheco Golf Club', \"Golfer's Country Club\", 'Nelson',\n",
       "       'Capilla del Señor', 'Rincón de los Sauces', 'Barrio Cerrado',\n",
       "       'Tortugas Country Club', 'Haras San Pablo',\n",
       "       'Barrio Privado Santa Rita', 'Altos de Manzanares 1 y 2',\n",
       "       'Pilar Golf Country Club', 'Reta', 'Renca', 'La Punilla',\n",
       "       'Maquinista Savio', 'Los Horneros CC', 'Salsipuedes',\n",
       "       'Altos de Matheu', 'Barrio Los Castores', 'Agua Blanca',\n",
       "       'La Punta', 'El Volcán',\n",
       "       'Complejo de Barrios Privados La Magdalena', 'María Juana',\n",
       "       'Ensenada', 'El Trapiche', 'Guillermo Hudson',\n",
       "       'Barrio Fortunato de La Plaza', 'Villa Paranacito', 'Matheu',\n",
       "       'Los Hornos', 'Punta Lara', 'Punta Mogotes', 'Catamarca',\n",
       "       'Pablo Podestá', 'Open Door', 'Fincas del Lago',\n",
       "       'San Carlos Centro', 'Jesús María', 'Barrio Cerrado Los Abedules',\n",
       "       'Barrio Cerrado \"La Montura\"', 'Desvío Arijón', 'José Ingenieros',\n",
       "       'Santa Trinidad', 'El Sauce', 'El Encuentro', 'Tristán Suárez',\n",
       "       'San Javier', 'Campo Quijano', 'Ricardone', 'Los Reartes',\n",
       "       'Solar del Bosque', 'San Roque', 'Puerto Libertad',\n",
       "       'San Fernando del Valle de Catamarca', 'Ataliva', 'Cerrillos',\n",
       "       'Santa María de los Olivos', 'Campos de Álvarez',\n",
       "       'Barrio La Cuesta', 'Barrio Cerrado Los Troncos', 'Brickland',\n",
       "       'Coronel Du Graty', 'Las Toninas', 'Azara', 'Paso de los Libres',\n",
       "       'Las Chacras', 'Villa Amancay', 'Las Grutas',\n",
       "       'Barrio Cerrado \"La Cañada de Pilar\"', 'Barrio cerrado La Cascada',\n",
       "       'La Ranita', 'Máximo Paz', 'General Fernández Oro',\n",
       "       'Veinticinco de Mayo', 'Puerto Esperanza', 'Wenceslao Escalante',\n",
       "       'Rincon', 'Valle Claro', 'Lomas de Benavidez', 'Las Gaviotas',\n",
       "       'Dina Huapi', 'Altos del Pilar', 'Tafí Viejo', 'Villa Riachuelo',\n",
       "       'San Alberto', 'Colonia Elía', 'Barrio Cerrado \"Ayres Plaza\"',\n",
       "       'San Diego Country Club', 'Barrio Los Jazmines - Pilar del Este',\n",
       "       'Aldea Brasilera', 'Barrio Cerrado \"SpringDale\"', 'Villa Celina',\n",
       "       'San Salvador de Jujuy', 'Haras María Elena', ' los alamos',\n",
       "       'Dorrego', 'Jeppener', 'Capitán Bermúdez', 'Pérez',\n",
       "       'Villa Vatteone', 'Barrio Cerrado \"Los Alcanfores\"', 'Baradero',\n",
       "       'Capilla del Rosario', 'San Nicolás de los Arroyos',\n",
       "       'San Miguel Oeste', 'Villa Icho Cruz', 'Adolfo Alsina',\n",
       "       'Villa Monteagudo', 'Chivilcoy', 'Carmen de Patagones', 'Chimbas',\n",
       "       'Monte Cristo', 'Nueva Ciudad', 'Villa Nueva', 'Los Molinos',\n",
       "       'Trinidad', 'San Clemente', 'Cruce Castelar', 'Mayor Drummond',\n",
       "       'Pedro Molina', 'Capilla del Monte', '9 de Abril', 'Villa Fiorito',\n",
       "       'Cabalango'], dtype=object)"
      ]
     },
     "execution_count": 13,
     "metadata": {},
     "output_type": "execute_result"
    }
   ],
   "source": [
    "df_properatti['place_name'].unique()"
   ]
  },
  {
   "cell_type": "code",
   "execution_count": 14,
   "metadata": {},
   "outputs": [
    {
     "data": {
      "text/plain": [
       "array(['Argentina'], dtype=object)"
      ]
     },
     "execution_count": 14,
     "metadata": {},
     "output_type": "execute_result"
    }
   ],
   "source": [
    "df_properatti['country_name'].unique()"
   ]
  },
  {
   "cell_type": "code",
   "execution_count": 19,
   "metadata": {},
   "outputs": [
    {
     "data": {
      "text/html": [
       "<div>\n",
       "<style scoped>\n",
       "    .dataframe tbody tr th:only-of-type {\n",
       "        vertical-align: middle;\n",
       "    }\n",
       "\n",
       "    .dataframe tbody tr th {\n",
       "        vertical-align: top;\n",
       "    }\n",
       "\n",
       "    .dataframe thead th {\n",
       "        text-align: right;\n",
       "    }\n",
       "</style>\n",
       "<table border=\"1\" class=\"dataframe\">\n",
       "  <thead>\n",
       "    <tr style=\"text-align: right;\">\n",
       "      <th></th>\n",
       "      <th>Unnamed: 0</th>\n",
       "      <th>operation</th>\n",
       "      <th>property_type</th>\n",
       "      <th>place_name</th>\n",
       "      <th>place_with_parent_names</th>\n",
       "      <th>country_name</th>\n",
       "      <th>state_name</th>\n",
       "      <th>geonames_id</th>\n",
       "      <th>lat-lon</th>\n",
       "      <th>lat</th>\n",
       "      <th>...</th>\n",
       "      <th>surface_covered_in_m2</th>\n",
       "      <th>price_usd_per_m2</th>\n",
       "      <th>price_per_m2</th>\n",
       "      <th>floor</th>\n",
       "      <th>rooms</th>\n",
       "      <th>expenses</th>\n",
       "      <th>properati_url</th>\n",
       "      <th>description</th>\n",
       "      <th>title</th>\n",
       "      <th>image_thumbnail</th>\n",
       "    </tr>\n",
       "  </thead>\n",
       "  <tbody>\n",
       "    <tr>\n",
       "      <th>10664</th>\n",
       "      <td>10664</td>\n",
       "      <td>sell</td>\n",
       "      <td>apartment</td>\n",
       "      <td>Villa Carlos Paz</td>\n",
       "      <td>|Argentina|Córdoba|Villa Carlos Paz|</td>\n",
       "      <td>Argentina</td>\n",
       "      <td>Córdoba</td>\n",
       "      <td>3832791.0</td>\n",
       "      <td>-31.4207828,-64.4992141</td>\n",
       "      <td>-31.420783</td>\n",
       "      <td>...</td>\n",
       "      <td>NaN</td>\n",
       "      <td>NaN</td>\n",
       "      <td>NaN</td>\n",
       "      <td>NaN</td>\n",
       "      <td>NaN</td>\n",
       "      <td>NaN</td>\n",
       "      <td>http://www.properati.com.ar/168nc_venta_depart...</td>\n",
       "      <td>NaN</td>\n",
       "      <td>HERMOSO DEPARTAMENTO CON PISCINA Y COCHERA</td>\n",
       "      <td>https://thumbs4.properati.com/6/JiAoy6zsKPeBob...</td>\n",
       "    </tr>\n",
       "  </tbody>\n",
       "</table>\n",
       "<p>1 rows × 26 columns</p>\n",
       "</div>"
      ],
      "text/plain": [
       "       Unnamed: 0 operation property_type        place_name  \\\n",
       "10664       10664      sell     apartment  Villa Carlos Paz   \n",
       "\n",
       "                    place_with_parent_names country_name state_name  \\\n",
       "10664  |Argentina|Córdoba|Villa Carlos Paz|    Argentina    Córdoba   \n",
       "\n",
       "       geonames_id                  lat-lon        lat  \\\n",
       "10664    3832791.0  -31.4207828,-64.4992141 -31.420783   \n",
       "\n",
       "                             ...                          \\\n",
       "10664                        ...                           \n",
       "\n",
       "       surface_covered_in_m2  price_usd_per_m2 price_per_m2  floor  rooms  \\\n",
       "10664                    NaN               NaN          NaN    NaN    NaN   \n",
       "\n",
       "       expenses                                      properati_url  \\\n",
       "10664       NaN  http://www.properati.com.ar/168nc_venta_depart...   \n",
       "\n",
       "       description                                        title  \\\n",
       "10664          NaN  HERMOSO DEPARTAMENTO CON PISCINA Y COCHERA    \n",
       "\n",
       "                                         image_thumbnail  \n",
       "10664  https://thumbs4.properati.com/6/JiAoy6zsKPeBob...  \n",
       "\n",
       "[1 rows x 26 columns]"
      ]
     },
     "execution_count": 19,
     "metadata": {},
     "output_type": "execute_result"
    }
   ],
   "source": [
    "df_properatti[df_properatti['description'].isnull()==True]"
   ]
  },
  {
   "cell_type": "code",
   "execution_count": 22,
   "metadata": {},
   "outputs": [
    {
     "data": {
      "text/plain": [
       "Unnamed: 0                        0\n",
       "operation                         0\n",
       "property_type                     0\n",
       "place_name                        8\n",
       "place_with_parent_names           0\n",
       "country_name                      0\n",
       "state_name                        0\n",
       "geonames_id                    4329\n",
       "lat-lon                        4321\n",
       "lat                            4321\n",
       "lon                            4321\n",
       "price                          5630\n",
       "currency                       5631\n",
       "price_aprox_local_currency     5630\n",
       "price_aprox_usd                5630\n",
       "surface_total_in_m2            8018\n",
       "surface_covered_in_m2          3788\n",
       "price_usd_per_m2              11864\n",
       "price_per_m2                   7889\n",
       "floor                         23220\n",
       "rooms                          8904\n",
       "expenses                      24610\n",
       "properati_url                     0\n",
       "description                       1\n",
       "title                             0\n",
       "image_thumbnail                 338\n",
       "dtype: int64"
      ]
     },
     "execution_count": 22,
     "metadata": {},
     "output_type": "execute_result"
    }
   ],
   "source": [
    "df_properatti.isnull().sum()"
   ]
  },
  {
   "cell_type": "code",
   "execution_count": 76,
   "metadata": {},
   "outputs": [
    {
     "name": "stdout",
     "output_type": "stream",
     "text": [
      "<class 'pandas.core.frame.DataFrame'>\n",
      "RangeIndex: 25792 entries, 0 to 25791\n",
      "Data columns (total 1 columns):\n",
      "price_aprox_usd    20162 non-null float64\n",
      "dtypes: float64(1)\n",
      "memory usage: 201.6 KB\n"
     ]
    }
   ],
   "source": [
    "df_properatti[['price_aprox_usd']].info()"
   ]
  },
  {
   "cell_type": "code",
   "execution_count": 40,
   "metadata": {},
   "outputs": [
    {
     "name": "stdout",
     "output_type": "stream",
     "text": [
      "<class 'pandas.core.frame.DataFrame'>\n",
      "RangeIndex: 25792 entries, 0 to 25791\n",
      "Data columns (total 1 columns):\n",
      "price    20162 non-null float64\n",
      "dtypes: float64(1)\n",
      "memory usage: 201.6 KB\n"
     ]
    }
   ],
   "source": [
    "df_properatti[['price']].info()"
   ]
  },
  {
   "cell_type": "code",
   "execution_count": 81,
   "metadata": {},
   "outputs": [
    {
     "data": {
      "text/plain": [
       "([array([0., 0., 1., 0., 0., 0., 0., 0., 0., 0.]),\n",
       "  array([0., 0., 0., 0., 0., 0., 0., 1., 0., 0.]),\n",
       "  array([0., 0., 1., 0., 0., 0., 0., 0., 0., 0.]),\n",
       "  array([0., 0., 0., 0., 1., 0., 0., 0., 0., 0.]),\n",
       "  array([0., 0., 1., 0., 0., 0., 0., 0., 0., 0.]),\n",
       "  array([0., 0., 0., 0., 0., 0., 0., 0., 0., 0.]),\n",
       "  array([0., 0., 0., 0., 0., 0., 1., 0., 0., 0.]),\n",
       "  array([0., 0., 0., 0., 0., 0., 1., 0., 0., 0.]),\n",
       "  array([0., 0., 0., 0., 0., 0., 0., 0., 0., 1.]),\n",
       "  array([1., 0., 0., 0., 0., 0., 0., 0., 0., 0.])],\n",
       " array([ 25798.49 ,  42718.641,  59638.792,  76558.943,  93479.094,\n",
       "        110399.245, 127319.396, 144239.547, 161159.698, 178079.849,\n",
       "        195000.   ]),\n",
       " <a list of 10 Lists of Patches objects>)"
      ]
     },
     "execution_count": 81,
     "metadata": {},
     "output_type": "execute_result"
    },
    {
     "data": {
      "image/png": "[encoded data removed]",
      "text/plain": [
       "<Figure size 432x288 with 1 Axes>"
      ]
     },
     "metadata": {},
     "output_type": "display_data"
    }
   ],
   "source": [
    "df_price = df_properatti[['price_aprox_usd']]\n",
    "plt.hist(df_price.head(10))"
   ]
  },
  {
   "cell_type": "code",
   "execution_count": 99,
   "metadata": {},
   "outputs": [
    {
     "ename": "ValueError",
     "evalue": "max must be larger than min in range parameter.",
     "output_type": "error",
     "traceback": [
      "\u001b[1;31m---------------------------------------------------------------------------\u001b[0m",
      "\u001b[1;31mValueError\u001b[0m                                Traceback (most recent call last)",
      "\u001b[1;32m<ipython-input-99-674cb614a7a4>\u001b[0m in \u001b[0;36m<module>\u001b[1;34m()\u001b[0m\n\u001b[1;32m----> 1\u001b[1;33m \u001b[0mplt\u001b[0m\u001b[1;33m.\u001b[0m\u001b[0mhist\u001b[0m\u001b[1;33m(\u001b[0m\u001b[0mdf_price\u001b[0m\u001b[1;33m[\u001b[0m\u001b[1;34m'price_aprox_usd'\u001b[0m\u001b[1;33m]\u001b[0m\u001b[1;33m)\u001b[0m\u001b[1;33m\u001b[0m\u001b[0m\n\u001b[0m",
      "\u001b[1;32m~\\Anaconda3\\lib\\site-packages\\matplotlib\\pyplot.py\u001b[0m in \u001b[0;36mhist\u001b[1;34m(x, bins, range, density, weights, cumulative, bottom, histtype, align, orientation, rwidth, log, color, label, stacked, normed, hold, data, **kwargs)\u001b[0m\n\u001b[0;32m   3130\u001b[0m                       \u001b[0mhisttype\u001b[0m\u001b[1;33m=\u001b[0m\u001b[0mhisttype\u001b[0m\u001b[1;33m,\u001b[0m \u001b[0malign\u001b[0m\u001b[1;33m=\u001b[0m\u001b[0malign\u001b[0m\u001b[1;33m,\u001b[0m \u001b[0morientation\u001b[0m\u001b[1;33m=\u001b[0m\u001b[0morientation\u001b[0m\u001b[1;33m,\u001b[0m\u001b[1;33m\u001b[0m\u001b[0m\n\u001b[0;32m   3131\u001b[0m                       \u001b[0mrwidth\u001b[0m\u001b[1;33m=\u001b[0m\u001b[0mrwidth\u001b[0m\u001b[1;33m,\u001b[0m \u001b[0mlog\u001b[0m\u001b[1;33m=\u001b[0m\u001b[0mlog\u001b[0m\u001b[1;33m,\u001b[0m \u001b[0mcolor\u001b[0m\u001b[1;33m=\u001b[0m\u001b[0mcolor\u001b[0m\u001b[1;33m,\u001b[0m \u001b[0mlabel\u001b[0m\u001b[1;33m=\u001b[0m\u001b[0mlabel\u001b[0m\u001b[1;33m,\u001b[0m\u001b[1;33m\u001b[0m\u001b[0m\n\u001b[1;32m-> 3132\u001b[1;33m                       stacked=stacked, normed=normed, data=data, **kwargs)\n\u001b[0m\u001b[0;32m   3133\u001b[0m     \u001b[1;32mfinally\u001b[0m\u001b[1;33m:\u001b[0m\u001b[1;33m\u001b[0m\u001b[0m\n\u001b[0;32m   3134\u001b[0m         \u001b[0max\u001b[0m\u001b[1;33m.\u001b[0m\u001b[0m_hold\u001b[0m \u001b[1;33m=\u001b[0m \u001b[0mwashold\u001b[0m\u001b[1;33m\u001b[0m\u001b[0m\n",
      "\u001b[1;32m~\\Anaconda3\\lib\\site-packages\\matplotlib\\__init__.py\u001b[0m in \u001b[0;36minner\u001b[1;34m(ax, *args, **kwargs)\u001b[0m\n\u001b[0;32m   1853\u001b[0m                         \u001b[1;34m\"the Matplotlib list!)\"\u001b[0m \u001b[1;33m%\u001b[0m \u001b[1;33m(\u001b[0m\u001b[0mlabel_namer\u001b[0m\u001b[1;33m,\u001b[0m \u001b[0mfunc\u001b[0m\u001b[1;33m.\u001b[0m\u001b[0m__name__\u001b[0m\u001b[1;33m)\u001b[0m\u001b[1;33m,\u001b[0m\u001b[1;33m\u001b[0m\u001b[0m\n\u001b[0;32m   1854\u001b[0m                         RuntimeWarning, stacklevel=2)\n\u001b[1;32m-> 1855\u001b[1;33m             \u001b[1;32mreturn\u001b[0m \u001b[0mfunc\u001b[0m\u001b[1;33m(\u001b[0m\u001b[0max\u001b[0m\u001b[1;33m,\u001b[0m \u001b[1;33m*\u001b[0m\u001b[0margs\u001b[0m\u001b[1;33m,\u001b[0m \u001b[1;33m**\u001b[0m\u001b[0mkwargs\u001b[0m\u001b[1;33m)\u001b[0m\u001b[1;33m\u001b[0m\u001b[0m\n\u001b[0m\u001b[0;32m   1856\u001b[0m \u001b[1;33m\u001b[0m\u001b[0m\n\u001b[0;32m   1857\u001b[0m         inner.__doc__ = _add_data_doc(inner.__doc__,\n",
      "\u001b[1;32m~\\Anaconda3\\lib\\site-packages\\matplotlib\\axes\\_axes.py\u001b[0m in \u001b[0;36mhist\u001b[1;34m(***failed resolving arguments***)\u001b[0m\n\u001b[0;32m   6528\u001b[0m             \u001b[1;31m# this will automatically overwrite bins,\u001b[0m\u001b[1;33m\u001b[0m\u001b[1;33m\u001b[0m\u001b[0m\n\u001b[0;32m   6529\u001b[0m             \u001b[1;31m# so that each histogram uses the same bins\u001b[0m\u001b[1;33m\u001b[0m\u001b[1;33m\u001b[0m\u001b[0m\n\u001b[1;32m-> 6530\u001b[1;33m             \u001b[0mm\u001b[0m\u001b[1;33m,\u001b[0m \u001b[0mbins\u001b[0m \u001b[1;33m=\u001b[0m \u001b[0mnp\u001b[0m\u001b[1;33m.\u001b[0m\u001b[0mhistogram\u001b[0m\u001b[1;33m(\u001b[0m\u001b[0mx\u001b[0m\u001b[1;33m[\u001b[0m\u001b[0mi\u001b[0m\u001b[1;33m]\u001b[0m\u001b[1;33m,\u001b[0m \u001b[0mbins\u001b[0m\u001b[1;33m,\u001b[0m \u001b[0mweights\u001b[0m\u001b[1;33m=\u001b[0m\u001b[0mw\u001b[0m\u001b[1;33m[\u001b[0m\u001b[0mi\u001b[0m\u001b[1;33m]\u001b[0m\u001b[1;33m,\u001b[0m \u001b[1;33m**\u001b[0m\u001b[0mhist_kwargs\u001b[0m\u001b[1;33m)\u001b[0m\u001b[1;33m\u001b[0m\u001b[0m\n\u001b[0m\u001b[0;32m   6531\u001b[0m             \u001b[0mm\u001b[0m \u001b[1;33m=\u001b[0m \u001b[0mm\u001b[0m\u001b[1;33m.\u001b[0m\u001b[0mastype\u001b[0m\u001b[1;33m(\u001b[0m\u001b[0mfloat\u001b[0m\u001b[1;33m)\u001b[0m  \u001b[1;31m# causes problems later if it's an int\u001b[0m\u001b[1;33m\u001b[0m\u001b[0m\n\u001b[0;32m   6532\u001b[0m             \u001b[1;32mif\u001b[0m \u001b[0mmlast\u001b[0m \u001b[1;32mis\u001b[0m \u001b[1;32mNone\u001b[0m\u001b[1;33m:\u001b[0m\u001b[1;33m\u001b[0m\u001b[0m\n",
      "\u001b[1;32m~\\Anaconda3\\lib\\site-packages\\numpy\\lib\\function_base.py\u001b[0m in \u001b[0;36mhistogram\u001b[1;34m(a, bins, range, normed, weights, density)\u001b[0m\n\u001b[0;32m    665\u001b[0m     \u001b[1;32mif\u001b[0m \u001b[0mfirst_edge\u001b[0m \u001b[1;33m>\u001b[0m \u001b[0mlast_edge\u001b[0m\u001b[1;33m:\u001b[0m\u001b[1;33m\u001b[0m\u001b[0m\n\u001b[0;32m    666\u001b[0m         raise ValueError(\n\u001b[1;32m--> 667\u001b[1;33m             'max must be larger than min in range parameter.')\n\u001b[0m\u001b[0;32m    668\u001b[0m     \u001b[1;32mif\u001b[0m \u001b[1;32mnot\u001b[0m \u001b[0mnp\u001b[0m\u001b[1;33m.\u001b[0m\u001b[0mall\u001b[0m\u001b[1;33m(\u001b[0m\u001b[0mnp\u001b[0m\u001b[1;33m.\u001b[0m\u001b[0misfinite\u001b[0m\u001b[1;33m(\u001b[0m\u001b[1;33m[\u001b[0m\u001b[0mfirst_edge\u001b[0m\u001b[1;33m,\u001b[0m \u001b[0mlast_edge\u001b[0m\u001b[1;33m]\u001b[0m\u001b[1;33m)\u001b[0m\u001b[1;33m)\u001b[0m\u001b[1;33m:\u001b[0m\u001b[1;33m\u001b[0m\u001b[0m\n\u001b[0;32m    669\u001b[0m         raise ValueError(\n",
      "\u001b[1;31mValueError\u001b[0m: max must be larger than min in range parameter."
     ]
    },
    {
     "data": {
      "image/png": "[encoded data removed]",
      "text/plain": [
       "<Figure size 432x288 with 1 Axes>"
      ]
     },
     "metadata": {},
     "output_type": "display_data"
    }
   ],
   "source": [
    "plt.hist(df_price['price_aprox_usd'])"
   ]
  },
  {
   "cell_type": "code",
   "execution_count": 114,
   "metadata": {},
   "outputs": [
    {
     "name": "stderr",
     "output_type": "stream",
     "text": [
      "C:\\Users\\Lucas\\Anaconda3\\lib\\site-packages\\matplotlib\\axes\\_axes.py:6462: UserWarning: The 'normed' kwarg is deprecated, and has been replaced by the 'density' kwarg.\n",
      "  warnings.warn(\"The 'normed' kwarg is deprecated, and has been \"\n"
     ]
    },
    {
     "data": {
      "text/plain": [
       "<matplotlib.axes._subplots.AxesSubplot at 0x23d51e62f28>"
      ]
     },
     "execution_count": 114,
     "metadata": {},
     "output_type": "execute_result"
    },
    {
     "data": {
      "image/png": "[encoded data removed]",
      "text/plain": [
       "<Figure size 432x288 with 1 Axes>"
      ]
     },
     "metadata": {},
     "output_type": "display_data"
    }
   ],
   "source": [
    "sns.distplot(df_properatti[df_properatti['price_aprox_usd'].isnull()==False]['price_aprox_usd'])"
   ]
  },
  {
   "cell_type": "code",
   "execution_count": 111,
   "metadata": {},
   "outputs": [
    {
     "ename": "KeyError",
     "evalue": "'place_name'",
     "output_type": "error",
     "traceback": [
      "\u001b[1;31m---------------------------------------------------------------------------\u001b[0m",
      "\u001b[1;31mTypeError\u001b[0m                                 Traceback (most recent call last)",
      "\u001b[1;32mpandas\\_libs\\index.pyx\u001b[0m in \u001b[0;36mpandas._libs.index.IndexEngine.get_loc\u001b[1;34m()\u001b[0m\n",
      "\u001b[1;32mpandas\\_libs\\hashtable_class_helper.pxi\u001b[0m in \u001b[0;36mpandas._libs.hashtable.Int64HashTable.get_item\u001b[1;34m()\u001b[0m\n",
      "\u001b[1;31mTypeError\u001b[0m: an integer is required",
      "\nDuring handling of the above exception, another exception occurred:\n",
      "\u001b[1;31mKeyError\u001b[0m                                  Traceback (most recent call last)",
      "\u001b[1;32m<ipython-input-111-2533dbe4fda6>\u001b[0m in \u001b[0;36m<module>\u001b[1;34m()\u001b[0m\n\u001b[1;32m----> 1\u001b[1;33m \u001b[0mdf_properatti\u001b[0m\u001b[1;33m[\u001b[0m\u001b[1;34m'price_aprox_usd'\u001b[0m\u001b[1;33m]\u001b[0m\u001b[1;33m.\u001b[0m\u001b[0misnull\u001b[0m\u001b[1;33m(\u001b[0m\u001b[1;33m)\u001b[0m\u001b[1;33m[\u001b[0m\u001b[1;34m'place_name'\u001b[0m\u001b[1;33m]\u001b[0m\u001b[1;33m==\u001b[0m\u001b[1;34m'Mataderos'\u001b[0m\u001b[1;33m\u001b[0m\u001b[0m\n\u001b[0m",
      "\u001b[1;32m~\\Anaconda3\\lib\\site-packages\\pandas\\core\\series.py\u001b[0m in \u001b[0;36m__getitem__\u001b[1;34m(self, key)\u001b[0m\n\u001b[0;32m    764\u001b[0m         \u001b[0mkey\u001b[0m \u001b[1;33m=\u001b[0m \u001b[0mcom\u001b[0m\u001b[1;33m.\u001b[0m\u001b[0m_apply_if_callable\u001b[0m\u001b[1;33m(\u001b[0m\u001b[0mkey\u001b[0m\u001b[1;33m,\u001b[0m \u001b[0mself\u001b[0m\u001b[1;33m)\u001b[0m\u001b[1;33m\u001b[0m\u001b[0m\n\u001b[0;32m    765\u001b[0m         \u001b[1;32mtry\u001b[0m\u001b[1;33m:\u001b[0m\u001b[1;33m\u001b[0m\u001b[0m\n\u001b[1;32m--> 766\u001b[1;33m             \u001b[0mresult\u001b[0m \u001b[1;33m=\u001b[0m \u001b[0mself\u001b[0m\u001b[1;33m.\u001b[0m\u001b[0mindex\u001b[0m\u001b[1;33m.\u001b[0m\u001b[0mget_value\u001b[0m\u001b[1;33m(\u001b[0m\u001b[0mself\u001b[0m\u001b[1;33m,\u001b[0m \u001b[0mkey\u001b[0m\u001b[1;33m)\u001b[0m\u001b[1;33m\u001b[0m\u001b[0m\n\u001b[0m\u001b[0;32m    767\u001b[0m \u001b[1;33m\u001b[0m\u001b[0m\n\u001b[0;32m    768\u001b[0m             \u001b[1;32mif\u001b[0m \u001b[1;32mnot\u001b[0m \u001b[0mis_scalar\u001b[0m\u001b[1;33m(\u001b[0m\u001b[0mresult\u001b[0m\u001b[1;33m)\u001b[0m\u001b[1;33m:\u001b[0m\u001b[1;33m\u001b[0m\u001b[0m\n",
      "\u001b[1;32m~\\Anaconda3\\lib\\site-packages\\pandas\\core\\indexes\\base.py\u001b[0m in \u001b[0;36mget_value\u001b[1;34m(self, series, key)\u001b[0m\n\u001b[0;32m   3101\u001b[0m         \u001b[1;32mtry\u001b[0m\u001b[1;33m:\u001b[0m\u001b[1;33m\u001b[0m\u001b[0m\n\u001b[0;32m   3102\u001b[0m             return self._engine.get_value(s, k,\n\u001b[1;32m-> 3103\u001b[1;33m                                           tz=getattr(series.dtype, 'tz', None))\n\u001b[0m\u001b[0;32m   3104\u001b[0m         \u001b[1;32mexcept\u001b[0m \u001b[0mKeyError\u001b[0m \u001b[1;32mas\u001b[0m \u001b[0me1\u001b[0m\u001b[1;33m:\u001b[0m\u001b[1;33m\u001b[0m\u001b[0m\n\u001b[0;32m   3105\u001b[0m             \u001b[1;32mif\u001b[0m \u001b[0mlen\u001b[0m\u001b[1;33m(\u001b[0m\u001b[0mself\u001b[0m\u001b[1;33m)\u001b[0m \u001b[1;33m>\u001b[0m \u001b[1;36m0\u001b[0m \u001b[1;32mand\u001b[0m \u001b[0mself\u001b[0m\u001b[1;33m.\u001b[0m\u001b[0minferred_type\u001b[0m \u001b[1;32min\u001b[0m \u001b[1;33m[\u001b[0m\u001b[1;34m'integer'\u001b[0m\u001b[1;33m,\u001b[0m \u001b[1;34m'boolean'\u001b[0m\u001b[1;33m]\u001b[0m\u001b[1;33m:\u001b[0m\u001b[1;33m\u001b[0m\u001b[0m\n",
      "\u001b[1;32mpandas\\_libs\\index.pyx\u001b[0m in \u001b[0;36mpandas._libs.index.IndexEngine.get_value\u001b[1;34m()\u001b[0m\n",
      "\u001b[1;32mpandas\\_libs\\index.pyx\u001b[0m in \u001b[0;36mpandas._libs.index.IndexEngine.get_value\u001b[1;34m()\u001b[0m\n",
      "\u001b[1;32mpandas\\_libs\\index.pyx\u001b[0m in \u001b[0;36mpandas._libs.index.IndexEngine.get_loc\u001b[1;34m()\u001b[0m\n",
      "\u001b[1;31mKeyError\u001b[0m: 'place_name'"
     ]
    }
   ],
   "source": [
    "df_properatti['price_aprox_usd'].isnull()['place_name']=='Mataderos'"
   ]
  },
  {
   "cell_type": "code",
   "execution_count": 115,
   "metadata": {},
   "outputs": [
    {
     "data": {
      "text/plain": [
       "0         62000.00\n",
       "1        150000.00\n",
       "2         72000.00\n",
       "3         95000.00\n",
       "4         64000.00\n",
       "6        130000.00\n",
       "7        138000.00\n",
       "8        195000.00\n",
       "9         25798.49\n",
       "10        70000.00\n",
       "11       150000.00\n",
       "12       115000.00\n",
       "13       111700.00\n",
       "14       147900.00\n",
       "15       250000.00\n",
       "16       239000.00\n",
       "17       315000.00\n",
       "18       570000.00\n",
       "19       350000.00\n",
       "21       270500.00\n",
       "22       290000.00\n",
       "23        82000.00\n",
       "24       355000.00\n",
       "25       358550.00\n",
       "26       265000.00\n",
       "27       650000.00\n",
       "28       362150.00\n",
       "29        75000.00\n",
       "30       178000.00\n",
       "31       130000.00\n",
       "           ...    \n",
       "25761    140000.00\n",
       "25762    600120.00\n",
       "25763    800450.00\n",
       "25764    811250.00\n",
       "25765    633560.00\n",
       "25767    130000.00\n",
       "25768     37000.00\n",
       "25769    130000.00\n",
       "25770     37000.00\n",
       "25771    623500.00\n",
       "25772    824500.00\n",
       "25773     37000.00\n",
       "25774    802100.00\n",
       "25775    658900.00\n",
       "25776    846500.00\n",
       "25777     37000.00\n",
       "25778     70000.00\n",
       "25779     75000.00\n",
       "25780    542600.00\n",
       "25781    402560.00\n",
       "25782    812540.00\n",
       "25783    624500.00\n",
       "25784     37000.00\n",
       "25785    623500.00\n",
       "25786    845200.00\n",
       "25787    425600.00\n",
       "25788    200000.00\n",
       "25789     37000.00\n",
       "25790    568920.00\n",
       "25791    612450.00\n",
       "Name: price_aprox_usd, Length: 20162, dtype: float64"
      ]
     },
     "execution_count": 115,
     "metadata": {},
     "output_type": "execute_result"
    }
   ],
   "source": [
    "df_properatti[df_properatti['price_aprox_usd'].isnull()==False]['price_aprox_usd']"
   ]
  },
  {
   "cell_type": "code",
   "execution_count": null,
   "metadata": {},
   "outputs": [],
   "source": []
  }
 ],
 "metadata": {
  "kernelspec": {
   "display_name": "Python 3",
   "language": "python",
   "name": "python3"
  },
  "language_info": {
   "codemirror_mode": {
    "name": "ipython",
    "version": 3
   },
   "file_extension": ".py",
   "mimetype": "text/x-python",
   "name": "python",
   "nbconvert_exporter": "python",
   "pygments_lexer": "ipython3",
   "version": "3.6.5"
  }
 },
 "nbformat": 4,
 "nbformat_minor": 2
}
