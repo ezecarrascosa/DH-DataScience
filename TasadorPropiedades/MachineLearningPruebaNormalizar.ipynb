{
 "cells": [
  {
   "cell_type": "code",
   "execution_count": 2,
   "metadata": {},
   "outputs": [],
   "source": [
    "#importando librerias que se piensan utilizar\n",
    "import numpy as np\n",
    "import pandas as pd\n",
    "import seaborn as sns\n",
    "import re\n",
    "import matplotlib.pyplot as plt\n",
    "\n",
    "from matplotlib import pyplot as plt\n",
    "import seaborn as sns\n",
    "\n",
    "from sklearn import linear_model\n",
    "from sklearn.metrics import r2_score\n",
    "\n",
    "from sklearn.model_selection import train_test_split, KFold, cross_val_score\n",
    "from sklearn.linear_model import LinearRegression, Lasso, LassoCV, Ridge, RidgeCV\n",
    "from sklearn.preprocessing import PolynomialFeatures, StandardScaler\n",
    "from sklearn.metrics import mean_squared_error, r2_score\n"
   ]
  },
  {
   "cell_type": "code",
   "execution_count": 9,
   "metadata": {},
   "outputs": [],
   "source": [
    "propiedades = pd.read_csv(\"propiedades_limpio.csv\", decimal=\".\")"
   ]
  },
  {
   "cell_type": "code",
   "execution_count": 10,
   "metadata": {},
   "outputs": [
    {
     "data": {
      "text/plain": [
       "['USD']"
      ]
     },
     "execution_count": 10,
     "metadata": {},
     "output_type": "execute_result"
    }
   ],
   "source": [
    "list(propiedades['currency'].unique())"
   ]
  },
  {
   "cell_type": "code",
   "execution_count": 11,
   "metadata": {},
   "outputs": [
    {
     "data": {
      "text/plain": [
       "currency                       0\n",
       "price_per_m2                   0\n",
       "surface_total_in_m2            0\n",
       "Barrio_agronomía               0\n",
       "Barrio_almagro                 0\n",
       "Barrio_balvanera               0\n",
       "Barrio_barracas                0\n",
       "Barrio_barrio norte            0\n",
       "Barrio_belgrano                0\n",
       "Barrio_boca                    0\n",
       "Barrio_boedo                   0\n",
       "Barrio_caballito               0\n",
       "Barrio_catalinas               0\n",
       "Barrio_centro / microcentro    0\n",
       "Barrio_chacarita               0\n",
       "Barrio_coghlan                 0\n",
       "Barrio_colegiales              0\n",
       "Barrio_congreso                0\n",
       "Barrio_constitución            0\n",
       "Barrio_flores                  0\n",
       "Barrio_floresta                0\n",
       "Barrio_las cañitas             0\n",
       "Barrio_liniers                 0\n",
       "Barrio_mataderos               0\n",
       "Barrio_monserrat               0\n",
       "Barrio_monte castro            0\n",
       "Barrio_nuñez                   0\n",
       "Barrio_once                    0\n",
       "Barrio_palermo                 0\n",
       "Barrio_palermo chico           0\n",
       "                              ..\n",
       "Barrio_tribunales              0\n",
       "Barrio_velez sarsfield         0\n",
       "Barrio_versalles               0\n",
       "Barrio_villa crespo            0\n",
       "Barrio_villa del parque        0\n",
       "Barrio_villa devoto            0\n",
       "Barrio_villa general mitre     0\n",
       "Barrio_villa lugano            0\n",
       "Barrio_villa luro              0\n",
       "Barrio_villa ortuzar           0\n",
       "Barrio_villa pueyrredón        0\n",
       "Barrio_villa real              0\n",
       "Barrio_villa riachuelo         0\n",
       "Barrio_villa santa rita        0\n",
       "Barrio_villa soldati           0\n",
       "Barrio_villa urquiza           0\n",
       "Tipo_propiedad_PH              0\n",
       "Tipo_propiedad_apartment       0\n",
       "Tipo_propiedad_house           0\n",
       "Tipo_propiedad_store           0\n",
       "Amb                            0\n",
       "pileta                         0\n",
       "amenities                      0\n",
       "cochera                        0\n",
       "pozo_en_descrip                0\n",
       "pozo_en_title                  0\n",
       "a_estrenar                     0\n",
       "expensas                       0\n",
       "baulera                        0\n",
       "apto_credito                   0\n",
       "Length: 77, dtype: int64"
      ]
     },
     "execution_count": 11,
     "metadata": {},
     "output_type": "execute_result"
    }
   ],
   "source": [
    "df_final2=propiedades[['currency','price_per_m2','surface_total_in_m2']]\n",
    "aux=propiedades.iloc[0:,14:]\n",
    "df_final3 =pd.concat([df_final2,aux], axis='columns')\n",
    "df_final3.isnull().sum()"
   ]
  },
  {
   "cell_type": "code",
   "execution_count": 12,
   "metadata": {},
   "outputs": [],
   "source": [
    " #Guardamos el final\n",
    "df_final3.to_dense().to_csv(\"propiedades_limpio2.csv\", index = False, sep=',', encoding='utf-8')"
   ]
  },
  {
   "cell_type": "code",
   "execution_count": 13,
   "metadata": {},
   "outputs": [
    {
     "data": {
      "text/html": [
       "<div>\n",
       "<style scoped>\n",
       "    .dataframe tbody tr th:only-of-type {\n",
       "        vertical-align: middle;\n",
       "    }\n",
       "\n",
       "    .dataframe tbody tr th {\n",
       "        vertical-align: top;\n",
       "    }\n",
       "\n",
       "    .dataframe thead th {\n",
       "        text-align: right;\n",
       "    }\n",
       "</style>\n",
       "<table border=\"1\" class=\"dataframe\">\n",
       "  <thead>\n",
       "    <tr style=\"text-align: right;\">\n",
       "      <th></th>\n",
       "      <th>currency</th>\n",
       "      <th>price_per_m2</th>\n",
       "      <th>surface_total_in_m2</th>\n",
       "      <th>Barrio_agronomía</th>\n",
       "      <th>Barrio_almagro</th>\n",
       "      <th>Barrio_balvanera</th>\n",
       "      <th>Barrio_barracas</th>\n",
       "      <th>Barrio_barrio norte</th>\n",
       "      <th>Barrio_belgrano</th>\n",
       "      <th>Barrio_boca</th>\n",
       "      <th>...</th>\n",
       "      <th>Amb</th>\n",
       "      <th>pileta</th>\n",
       "      <th>amenities</th>\n",
       "      <th>cochera</th>\n",
       "      <th>pozo_en_descrip</th>\n",
       "      <th>pozo_en_title</th>\n",
       "      <th>a_estrenar</th>\n",
       "      <th>expensas</th>\n",
       "      <th>baulera</th>\n",
       "      <th>apto_credito</th>\n",
       "    </tr>\n",
       "  </thead>\n",
       "  <tbody>\n",
       "    <tr>\n",
       "      <th>0</th>\n",
       "      <td>USD</td>\n",
       "      <td>3723.333333</td>\n",
       "      <td>50.0</td>\n",
       "      <td>0.0</td>\n",
       "      <td>0.0</td>\n",
       "      <td>0.0</td>\n",
       "      <td>0.0</td>\n",
       "      <td>0.0</td>\n",
       "      <td>0.0</td>\n",
       "      <td>0.0</td>\n",
       "      <td>...</td>\n",
       "      <td>1.0</td>\n",
       "      <td>1</td>\n",
       "      <td>1</td>\n",
       "      <td>0</td>\n",
       "      <td>1</td>\n",
       "      <td>1</td>\n",
       "      <td>0</td>\n",
       "      <td>1</td>\n",
       "      <td>0</td>\n",
       "      <td>0</td>\n",
       "    </tr>\n",
       "    <tr>\n",
       "      <th>1</th>\n",
       "      <td>USD</td>\n",
       "      <td>4770.967742</td>\n",
       "      <td>42.0</td>\n",
       "      <td>0.0</td>\n",
       "      <td>0.0</td>\n",
       "      <td>0.0</td>\n",
       "      <td>0.0</td>\n",
       "      <td>0.0</td>\n",
       "      <td>0.0</td>\n",
       "      <td>0.0</td>\n",
       "      <td>...</td>\n",
       "      <td>1.0</td>\n",
       "      <td>1</td>\n",
       "      <td>1</td>\n",
       "      <td>0</td>\n",
       "      <td>1</td>\n",
       "      <td>1</td>\n",
       "      <td>0</td>\n",
       "      <td>1</td>\n",
       "      <td>0</td>\n",
       "      <td>0</td>\n",
       "    </tr>\n",
       "    <tr>\n",
       "      <th>2</th>\n",
       "      <td>USD</td>\n",
       "      <td>2438.775510</td>\n",
       "      <td>140.0</td>\n",
       "      <td>0.0</td>\n",
       "      <td>0.0</td>\n",
       "      <td>0.0</td>\n",
       "      <td>0.0</td>\n",
       "      <td>0.0</td>\n",
       "      <td>0.0</td>\n",
       "      <td>0.0</td>\n",
       "      <td>...</td>\n",
       "      <td>4.0</td>\n",
       "      <td>0</td>\n",
       "      <td>0</td>\n",
       "      <td>0</td>\n",
       "      <td>0</td>\n",
       "      <td>0</td>\n",
       "      <td>0</td>\n",
       "      <td>0</td>\n",
       "      <td>0</td>\n",
       "      <td>0</td>\n",
       "    </tr>\n",
       "    <tr>\n",
       "      <th>3</th>\n",
       "      <td>USD</td>\n",
       "      <td>3645.833333</td>\n",
       "      <td>104.0</td>\n",
       "      <td>0.0</td>\n",
       "      <td>0.0</td>\n",
       "      <td>0.0</td>\n",
       "      <td>0.0</td>\n",
       "      <td>0.0</td>\n",
       "      <td>0.0</td>\n",
       "      <td>0.0</td>\n",
       "      <td>...</td>\n",
       "      <td>3.0</td>\n",
       "      <td>0</td>\n",
       "      <td>0</td>\n",
       "      <td>0</td>\n",
       "      <td>0</td>\n",
       "      <td>0</td>\n",
       "      <td>0</td>\n",
       "      <td>0</td>\n",
       "      <td>1</td>\n",
       "      <td>0</td>\n",
       "    </tr>\n",
       "    <tr>\n",
       "      <th>4</th>\n",
       "      <td>USD</td>\n",
       "      <td>3705.479452</td>\n",
       "      <td>118.0</td>\n",
       "      <td>0.0</td>\n",
       "      <td>0.0</td>\n",
       "      <td>0.0</td>\n",
       "      <td>0.0</td>\n",
       "      <td>0.0</td>\n",
       "      <td>0.0</td>\n",
       "      <td>0.0</td>\n",
       "      <td>...</td>\n",
       "      <td>4.0</td>\n",
       "      <td>0</td>\n",
       "      <td>0</td>\n",
       "      <td>0</td>\n",
       "      <td>0</td>\n",
       "      <td>0</td>\n",
       "      <td>0</td>\n",
       "      <td>0</td>\n",
       "      <td>0</td>\n",
       "      <td>0</td>\n",
       "    </tr>\n",
       "    <tr>\n",
       "      <th>5</th>\n",
       "      <td>USD</td>\n",
       "      <td>1744.186047</td>\n",
       "      <td>43.0</td>\n",
       "      <td>0.0</td>\n",
       "      <td>0.0</td>\n",
       "      <td>0.0</td>\n",
       "      <td>0.0</td>\n",
       "      <td>0.0</td>\n",
       "      <td>0.0</td>\n",
       "      <td>0.0</td>\n",
       "      <td>...</td>\n",
       "      <td>2.0</td>\n",
       "      <td>0</td>\n",
       "      <td>0</td>\n",
       "      <td>0</td>\n",
       "      <td>0</td>\n",
       "      <td>0</td>\n",
       "      <td>0</td>\n",
       "      <td>0</td>\n",
       "      <td>0</td>\n",
       "      <td>0</td>\n",
       "    </tr>\n",
       "    <tr>\n",
       "      <th>6</th>\n",
       "      <td>USD</td>\n",
       "      <td>1883.116883</td>\n",
       "      <td>80.0</td>\n",
       "      <td>0.0</td>\n",
       "      <td>0.0</td>\n",
       "      <td>0.0</td>\n",
       "      <td>0.0</td>\n",
       "      <td>0.0</td>\n",
       "      <td>0.0</td>\n",
       "      <td>0.0</td>\n",
       "      <td>...</td>\n",
       "      <td>4.0</td>\n",
       "      <td>0</td>\n",
       "      <td>0</td>\n",
       "      <td>0</td>\n",
       "      <td>0</td>\n",
       "      <td>0</td>\n",
       "      <td>0</td>\n",
       "      <td>1</td>\n",
       "      <td>0</td>\n",
       "      <td>0</td>\n",
       "    </tr>\n",
       "    <tr>\n",
       "      <th>7</th>\n",
       "      <td>USD</td>\n",
       "      <td>3692.307692</td>\n",
       "      <td>220.0</td>\n",
       "      <td>0.0</td>\n",
       "      <td>0.0</td>\n",
       "      <td>0.0</td>\n",
       "      <td>0.0</td>\n",
       "      <td>0.0</td>\n",
       "      <td>0.0</td>\n",
       "      <td>0.0</td>\n",
       "      <td>...</td>\n",
       "      <td>3.0</td>\n",
       "      <td>1</td>\n",
       "      <td>1</td>\n",
       "      <td>1</td>\n",
       "      <td>0</td>\n",
       "      <td>0</td>\n",
       "      <td>0</td>\n",
       "      <td>0</td>\n",
       "      <td>1</td>\n",
       "      <td>0</td>\n",
       "    </tr>\n",
       "    <tr>\n",
       "      <th>8</th>\n",
       "      <td>USD</td>\n",
       "      <td>1935.483871</td>\n",
       "      <td>141.0</td>\n",
       "      <td>0.0</td>\n",
       "      <td>0.0</td>\n",
       "      <td>1.0</td>\n",
       "      <td>0.0</td>\n",
       "      <td>0.0</td>\n",
       "      <td>0.0</td>\n",
       "      <td>0.0</td>\n",
       "      <td>...</td>\n",
       "      <td>5.0</td>\n",
       "      <td>0</td>\n",
       "      <td>0</td>\n",
       "      <td>1</td>\n",
       "      <td>0</td>\n",
       "      <td>0</td>\n",
       "      <td>0</td>\n",
       "      <td>0</td>\n",
       "      <td>1</td>\n",
       "      <td>0</td>\n",
       "    </tr>\n",
       "    <tr>\n",
       "      <th>9</th>\n",
       "      <td>USD</td>\n",
       "      <td>2200.000000</td>\n",
       "      <td>50.0</td>\n",
       "      <td>0.0</td>\n",
       "      <td>0.0</td>\n",
       "      <td>0.0</td>\n",
       "      <td>0.0</td>\n",
       "      <td>0.0</td>\n",
       "      <td>0.0</td>\n",
       "      <td>0.0</td>\n",
       "      <td>...</td>\n",
       "      <td>3.0</td>\n",
       "      <td>0</td>\n",
       "      <td>1</td>\n",
       "      <td>0</td>\n",
       "      <td>0</td>\n",
       "      <td>0</td>\n",
       "      <td>1</td>\n",
       "      <td>1</td>\n",
       "      <td>1</td>\n",
       "      <td>0</td>\n",
       "    </tr>\n",
       "  </tbody>\n",
       "</table>\n",
       "<p>10 rows × 77 columns</p>\n",
       "</div>"
      ],
      "text/plain": [
       "  currency  price_per_m2  surface_total_in_m2  Barrio_agronomía  \\\n",
       "0      USD   3723.333333                 50.0               0.0   \n",
       "1      USD   4770.967742                 42.0               0.0   \n",
       "2      USD   2438.775510                140.0               0.0   \n",
       "3      USD   3645.833333                104.0               0.0   \n",
       "4      USD   3705.479452                118.0               0.0   \n",
       "5      USD   1744.186047                 43.0               0.0   \n",
       "6      USD   1883.116883                 80.0               0.0   \n",
       "7      USD   3692.307692                220.0               0.0   \n",
       "8      USD   1935.483871                141.0               0.0   \n",
       "9      USD   2200.000000                 50.0               0.0   \n",
       "\n",
       "   Barrio_almagro  Barrio_balvanera  Barrio_barracas  Barrio_barrio norte  \\\n",
       "0             0.0               0.0              0.0                  0.0   \n",
       "1             0.0               0.0              0.0                  0.0   \n",
       "2             0.0               0.0              0.0                  0.0   \n",
       "3             0.0               0.0              0.0                  0.0   \n",
       "4             0.0               0.0              0.0                  0.0   \n",
       "5             0.0               0.0              0.0                  0.0   \n",
       "6             0.0               0.0              0.0                  0.0   \n",
       "7             0.0               0.0              0.0                  0.0   \n",
       "8             0.0               1.0              0.0                  0.0   \n",
       "9             0.0               0.0              0.0                  0.0   \n",
       "\n",
       "   Barrio_belgrano  Barrio_boca  ...  Amb  pileta  amenities  cochera  \\\n",
       "0              0.0          0.0  ...  1.0       1          1        0   \n",
       "1              0.0          0.0  ...  1.0       1          1        0   \n",
       "2              0.0          0.0  ...  4.0       0          0        0   \n",
       "3              0.0          0.0  ...  3.0       0          0        0   \n",
       "4              0.0          0.0  ...  4.0       0          0        0   \n",
       "5              0.0          0.0  ...  2.0       0          0        0   \n",
       "6              0.0          0.0  ...  4.0       0          0        0   \n",
       "7              0.0          0.0  ...  3.0       1          1        1   \n",
       "8              0.0          0.0  ...  5.0       0          0        1   \n",
       "9              0.0          0.0  ...  3.0       0          1        0   \n",
       "\n",
       "   pozo_en_descrip  pozo_en_title  a_estrenar  expensas  baulera  apto_credito  \n",
       "0                1              1           0         1        0             0  \n",
       "1                1              1           0         1        0             0  \n",
       "2                0              0           0         0        0             0  \n",
       "3                0              0           0         0        1             0  \n",
       "4                0              0           0         0        0             0  \n",
       "5                0              0           0         0        0             0  \n",
       "6                0              0           0         1        0             0  \n",
       "7                0              0           0         0        1             0  \n",
       "8                0              0           0         0        1             0  \n",
       "9                0              0           1         1        1             0  \n",
       "\n",
       "[10 rows x 77 columns]"
      ]
     },
     "execution_count": 13,
     "metadata": {},
     "output_type": "execute_result"
    }
   ],
   "source": [
    "df_final3.head(10)"
   ]
  },
  {
   "cell_type": "code",
   "execution_count": 14,
   "metadata": {},
   "outputs": [
    {
     "data": {
      "image/png": "[encoded data removed]",
      "text/plain": [
       "<Figure size 432x288 with 2 Axes>"
      ]
     },
     "metadata": {
      "needs_background": "light"
     },
     "output_type": "display_data"
    }
   ],
   "source": [
    "sns.heatmap(df_final3[['surface_total_in_m2','Tipo_propiedad_house', 'pileta', 'amenities', 'cochera', 'Amb','Tipo_propiedad_apartment','Tipo_propiedad_PH']].corr(), annot=True)\n",
    "plt.show()"
   ]
  },
  {
   "cell_type": "code",
   "execution_count": 345,
   "metadata": {},
   "outputs": [],
   "source": [
    "#DataFrame con distintos campos para probar\n",
    "df_final4 = df_final3\n",
    "\n",
    "#Elimino algunos outliers\n",
    "\n",
    "df_final4.drop(df_final4[(df_final4.Amb == 1) & (df_final4.surface_total_in_m2 > 110)].index, inplace = True)\n",
    "df_final4.drop(df_final4[(df_final4.Amb == 2) & (df_final4.surface_total_in_m2 > 150)].index, inplace = True)\n",
    "df_final4.drop(df_final4[(df_final4.Amb == 3) & (df_final4.surface_total_in_m2 > 240)].index, inplace = True)\n",
    "df_final4.drop(df_final4[(df_final4.Amb == 4) & (df_final4.surface_total_in_m2 > 400)].index, inplace = True)\n",
    "df_final4.drop(df_final4[(df_final4.Amb == 5) & (df_final4.surface_total_in_m2 < 50)].index, inplace = True)\n",
    "df_final4.drop(df_final4[(df_final4.Amb == 6) & (df_final4.surface_total_in_m2 > 450)].index, inplace = True)\n",
    "df_final4.drop(df_final4[(df_final4.Amb == 6) & (df_final4.surface_total_in_m2 < 80)].index, inplace = True)\n",
    "df_final4.drop(df_final4[(df_final4.Amb == 7) & (df_final4.surface_total_in_m2 > 360)].index, inplace = True)\n",
    "df_final4.drop(df_final4[(df_final4.Amb == 7) & (df_final4.surface_total_in_m2 < 130)].index, inplace = True)\n",
    "\n",
    "\n",
    "df_All = df_final4.drop(['currency','price_per_m2'], axis=1)\n",
    "\n",
    "#df_All[(df_All['Amb'] == 2)].plot(kind='scatter', x='surface_total_in_m2', y='Amb', alpha=0.2)\n",
    "#df_All.plot(kind='scatter', x='surface_total_in_m2', y='Amb', alpha=0.2)\n"
   ]
  },
  {
   "cell_type": "code",
   "execution_count": 346,
   "metadata": {},
   "outputs": [
    {
     "data": {
      "image/png": "[encoded data removed]",
      "text/plain": [
       "<Figure size 432x288 with 1 Axes>"
      ]
     },
     "metadata": {
      "needs_background": "light"
     },
     "output_type": "display_data"
    }
   ],
   "source": [
    "#XDefinimos las variables categoricas simples para probar un modelo\n",
    "X = df_final4[['surface_total_in_m2', 'Amb','pileta', 'amenities','cochera']]\n",
    "y = df_final4['price_per_m2']\n",
    "\n",
    "X_train, X_test, y_train, y_test = train_test_split(X, y, test_size=0.30, random_state=10)\n",
    "\n",
    "# Ploteamos puntos con Pandas\n",
    "X_train.plot(kind='scatter', x='surface_total_in_m2', y='Amb', alpha=0.2);\n",
    "\n"
   ]
  },
  {
   "cell_type": "code",
   "execution_count": 347,
   "metadata": {},
   "outputs": [],
   "source": [
    "#Reseteo los indices para poder hacer el concat con los datos escalados\n",
    "X_train.index = pd.RangeIndex(len(X_train.index))"
   ]
  },
  {
   "cell_type": "code",
   "execution_count": 348,
   "metadata": {},
   "outputs": [],
   "source": [
    "#Normalizacion\n",
    "from sklearn import preprocessing\n",
    "#Creo una variable con las columas que quiero escalar\n",
    "lista_numericos = ['surface_total_in_m2', 'Amb']\n",
    "\n",
    "#Instancio el metodo para escalar\n",
    "scaler = StandardScaler()\n",
    "\n",
    "#Fiteo el modelo con los datos de training\n",
    "X_train_numerico = scaler.fit_transform(X_train[lista_numericos])\n"
   ]
  },
  {
   "cell_type": "code",
   "execution_count": 349,
   "metadata": {},
   "outputs": [
    {
     "data": {
      "text/html": [
       "<div>\n",
       "<style scoped>\n",
       "    .dataframe tbody tr th:only-of-type {\n",
       "        vertical-align: middle;\n",
       "    }\n",
       "\n",
       "    .dataframe tbody tr th {\n",
       "        vertical-align: top;\n",
       "    }\n",
       "\n",
       "    .dataframe thead th {\n",
       "        text-align: right;\n",
       "    }\n",
       "</style>\n",
       "<table border=\"1\" class=\"dataframe\">\n",
       "  <thead>\n",
       "    <tr style=\"text-align: right;\">\n",
       "      <th></th>\n",
       "      <th>surface_total_in_m2_scl</th>\n",
       "      <th>Amb_scl</th>\n",
       "    </tr>\n",
       "  </thead>\n",
       "  <tbody>\n",
       "    <tr>\n",
       "      <th>0</th>\n",
       "      <td>-0.753144</td>\n",
       "      <td>-1.275226</td>\n",
       "    </tr>\n",
       "    <tr>\n",
       "      <th>1</th>\n",
       "      <td>0.837841</td>\n",
       "      <td>1.599756</td>\n",
       "    </tr>\n",
       "    <tr>\n",
       "      <th>2</th>\n",
       "      <td>-0.437949</td>\n",
       "      <td>-0.556481</td>\n",
       "    </tr>\n",
       "    <tr>\n",
       "      <th>3</th>\n",
       "      <td>1.243092</td>\n",
       "      <td>0.881010</td>\n",
       "    </tr>\n",
       "    <tr>\n",
       "      <th>4</th>\n",
       "      <td>-0.798172</td>\n",
       "      <td>-0.556481</td>\n",
       "    </tr>\n",
       "  </tbody>\n",
       "</table>\n",
       "</div>"
      ],
      "text/plain": [
       "   surface_total_in_m2_scl   Amb_scl\n",
       "0                -0.753144 -1.275226\n",
       "1                 0.837841  1.599756\n",
       "2                -0.437949 -0.556481\n",
       "3                 1.243092  0.881010\n",
       "4                -0.798172 -0.556481"
      ]
     },
     "execution_count": 349,
     "metadata": {},
     "output_type": "execute_result"
    }
   ],
   "source": [
    "#Transformo el array con los valores escalado en un DF y luego renombro las columnas\n",
    "df_t = pd.DataFrame(X_train_numerico)\n",
    "df_t.columns = ['surface_total_in_m2_scl', 'Amb_scl']\n",
    "df_t.head()"
   ]
  },
  {
   "cell_type": "code",
   "execution_count": 350,
   "metadata": {},
   "outputs": [
    {
     "data": {
      "image/png": "[encoded data removed]",
      "text/plain": [
       "<Figure size 432x288 with 1 Axes>"
      ]
     },
     "metadata": {
      "needs_background": "light"
     },
     "output_type": "display_data"
    }
   ],
   "source": [
    "#Creo un nuevo DF con los datos de X_train y agrego las columnas escaladas\n",
    "X_train_scaled = pd.concat([df_t,X_train], axis=1)\n",
    "\n",
    "#Luego borro las columnas originales que fueron escaladas\n",
    "X_train_scaled.drop('surface_total_in_m2', axis=1, inplace=True)\n",
    "X_train_scaled.drop('Amb', axis=1, inplace=True)\n",
    "\n",
    "# Ploteamos puntos con Pandas\n",
    "X_train_scaled.plot(kind='scatter', x='surface_total_in_m2_scl', y='Amb_scl', alpha=0.2);"
   ]
  },
  {
   "cell_type": "code",
   "execution_count": 351,
   "metadata": {},
   "outputs": [],
   "source": [
    "lm = linear_model.LinearRegression()\n",
    "\n",
    "#model_1 = lm.fit(X_train, y_train)\n",
    "model_1 = lm.fit(X_train_scaled, y_train)\n",
    "\n",
    "#print('Score model_1:', model_1.score(X_test, y_test))\n"
   ]
  },
  {
   "cell_type": "code",
   "execution_count": 352,
   "metadata": {},
   "outputs": [],
   "source": [
    "#Reseteo indice de X_test antes de concatenar las columnas escaladas\n",
    "X_test.index = pd.RangeIndex(len(X_test.index))\n",
    "\n",
    "#En X_test_numerico guardo los dats escalado\n",
    "X_test_numerico = scaler.transform(X_test[lista_numericos])\n",
    "\n",
    "df_tst_t = pd.DataFrame(X_test_numerico)\n",
    "df_tst_t.columns = ['surface_total_in_m2_scl', 'Amb_scl']\n",
    "\n",
    "#X_test_escaled tiene el DF orininal de test mas las dos variables escaladas\n",
    "X_test_scaled = pd.concat([df_tst_t,X_test], axis=1)\n",
    "\n",
    "#Elimino las variables originales que escale\n",
    "X_test_scaled.drop('surface_total_in_m2', axis=1, inplace=True)\n",
    "X_test_scaled.drop('Amb', axis=1, inplace=True)"
   ]
  },
  {
   "cell_type": "code",
   "execution_count": 353,
   "metadata": {},
   "outputs": [
    {
     "name": "stdout",
     "output_type": "stream",
     "text": [
      "Score model_1: 0.19072160265360505\n"
     ]
    }
   ],
   "source": [
    "print('Score model_1:', model_1.score(X_test_scaled, y_test))\n"
   ]
  },
  {
   "cell_type": "code",
   "execution_count": 354,
   "metadata": {},
   "outputs": [
    {
     "name": "stdout",
     "output_type": "stream",
     "text": [
      "Score model_2: 0.22466122516483167\n"
     ]
    }
   ],
   "source": [
    "# Entrenamos otro modelo con mas variables \n",
    "\n",
    "X_some = df_final3[['surface_total_in_m2', 'pileta', 'amenities','cochera','Amb','Tipo_propiedad_apartment','Tipo_propiedad_house','Tipo_propiedad_PH']]\n",
    "\n",
    "\n",
    "X_some_train, X_some_test, y_some_train, y_some_test = train_test_split(X_some, y, test_size=0.35, random_state=10)\n",
    "\n",
    "\n",
    "model_2 = lm.fit(X_some_train, y_some_train)\n",
    "print('Score model_2:', model_2.score(X_some_test, y_some_test))"
   ]
  },
  {
   "cell_type": "code",
   "execution_count": 344,
   "metadata": {},
   "outputs": [
    {
     "name": "stdout",
     "output_type": "stream",
     "text": [
      "<class 'pandas.core.frame.DataFrame'>\n",
      "Int64Index: 12157 entries, 0 to 12250\n",
      "Data columns (total 75 columns):\n",
      "surface_total_in_m2            12157 non-null float64\n",
      "Barrio_agronomía               12157 non-null float64\n",
      "Barrio_almagro                 12157 non-null float64\n",
      "Barrio_balvanera               12157 non-null float64\n",
      "Barrio_barracas                12157 non-null float64\n",
      "Barrio_barrio norte            12157 non-null float64\n",
      "Barrio_belgrano                12157 non-null float64\n",
      "Barrio_boca                    12157 non-null float64\n",
      "Barrio_boedo                   12157 non-null float64\n",
      "Barrio_caballito               12157 non-null float64\n",
      "Barrio_catalinas               12157 non-null float64\n",
      "Barrio_centro / microcentro    12157 non-null float64\n",
      "Barrio_chacarita               12157 non-null float64\n",
      "Barrio_coghlan                 12157 non-null float64\n",
      "Barrio_colegiales              12157 non-null float64\n",
      "Barrio_congreso                12157 non-null float64\n",
      "Barrio_constitución            12157 non-null float64\n",
      "Barrio_flores                  12157 non-null float64\n",
      "Barrio_floresta                12157 non-null float64\n",
      "Barrio_las cañitas             12157 non-null float64\n",
      "Barrio_liniers                 12157 non-null float64\n",
      "Barrio_mataderos               12157 non-null float64\n",
      "Barrio_monserrat               12157 non-null float64\n",
      "Barrio_monte castro            12157 non-null float64\n",
      "Barrio_nuñez                   12157 non-null float64\n",
      "Barrio_once                    12157 non-null float64\n",
      "Barrio_palermo                 12157 non-null float64\n",
      "Barrio_palermo chico           12157 non-null float64\n",
      "Barrio_palermo hollywood       12157 non-null float64\n",
      "Barrio_palermo soho            12157 non-null float64\n",
      "Barrio_palermo viejo           12157 non-null float64\n",
      "Barrio_parque avellaneda       12157 non-null float64\n",
      "Barrio_parque centenario       12157 non-null float64\n",
      "Barrio_parque chacabuco        12157 non-null float64\n",
      "Barrio_parque chas             12157 non-null float64\n",
      "Barrio_parque patricios        12157 non-null float64\n",
      "Barrio_paternal                12157 non-null float64\n",
      "Barrio_pompeya                 12157 non-null float64\n",
      "Barrio_puerto madero           12157 non-null float64\n",
      "Barrio_recoleta                12157 non-null float64\n",
      "Barrio_retiro                  12157 non-null float64\n",
      "Barrio_saavedra                12157 non-null float64\n",
      "Barrio_san cristobal           12157 non-null float64\n",
      "Barrio_san nicolás             12157 non-null float64\n",
      "Barrio_san telmo               12157 non-null float64\n",
      "Barrio_tribunales              12157 non-null float64\n",
      "Barrio_velez sarsfield         12157 non-null float64\n",
      "Barrio_versalles               12157 non-null float64\n",
      "Barrio_villa crespo            12157 non-null float64\n",
      "Barrio_villa del parque        12157 non-null float64\n",
      "Barrio_villa devoto            12157 non-null float64\n",
      "Barrio_villa general mitre     12157 non-null float64\n",
      "Barrio_villa lugano            12157 non-null float64\n",
      "Barrio_villa luro              12157 non-null float64\n",
      "Barrio_villa ortuzar           12157 non-null float64\n",
      "Barrio_villa pueyrredón        12157 non-null float64\n",
      "Barrio_villa real              12157 non-null float64\n",
      "Barrio_villa riachuelo         12157 non-null float64\n",
      "Barrio_villa santa rita        12157 non-null float64\n",
      "Barrio_villa soldati           12157 non-null float64\n",
      "Barrio_villa urquiza           12157 non-null float64\n",
      "Tipo_propiedad_PH              12157 non-null int64\n",
      "Tipo_propiedad_apartment       12157 non-null int64\n",
      "Tipo_propiedad_house           12157 non-null int64\n",
      "Tipo_propiedad_store           12157 non-null int64\n",
      "Amb                            12157 non-null float64\n",
      "pileta                         12157 non-null int64\n",
      "amenities                      12157 non-null int64\n",
      "cochera                        12157 non-null int64\n",
      "pozo_en_descrip                12157 non-null int64\n",
      "pozo_en_title                  12157 non-null int64\n",
      "a_estrenar                     12157 non-null int64\n",
      "expensas                       12157 non-null int64\n",
      "baulera                        12157 non-null int64\n",
      "apto_credito                   12157 non-null int64\n",
      "dtypes: float64(62), int64(13)\n",
      "memory usage: 7.0 MB\n"
     ]
    }
   ],
   "source": [
    "df_All.info()"
   ]
  },
  {
   "cell_type": "code",
   "execution_count": 355,
   "metadata": {},
   "outputs": [],
   "source": [
    "# Entrenamos otro modelo con todas las variables\n",
    "\n",
    "X_all = df_All\n",
    "\n",
    "X_all_train, X_all_test, y_all_train, y_all_test = train_test_split(X_all, y, test_size=0.4, random_state=10)\n",
    "X_all_train.index = pd.RangeIndex(len(X_all_train.index))"
   ]
  },
  {
   "cell_type": "code",
   "execution_count": 356,
   "metadata": {},
   "outputs": [],
   "source": [
    "#Normalizacion\n",
    "#from sklearn import preprocessing\n",
    "#Creo una variable con las columas que quiero escalar\n",
    "#lista_numericos = ['surface_total_in_m2', 'Amb']\n",
    "\n",
    "#Instancio el metodo para escalar\n",
    "scaler_all = StandardScaler()\n",
    "\n",
    "#Fiteo el modelo con los datos de training\n",
    "X_all_train_numerico = scaler_all.fit_transform(X_all_train[lista_numericos])\n",
    "\n",
    "#Transformo el array con los valores escalado en un DF y luego renombro las columnas\n",
    "df_all_t = pd.DataFrame(X_all_train_numerico)\n",
    "df_all_t.columns = ['surface_total_in_m2_scl', 'Amb_scl']\n",
    "\n",
    "#Creo un nuevo DF con los datos de X_train y agrego las columnas escaladas\n",
    "X_all_train_scaled = pd.concat([df_all_t,X_all_train], axis=1)\n",
    "\n",
    "#Luego borro las columnas originales que fueron escaladas\n",
    "X_all_train_scaled.drop('surface_total_in_m2', axis=1, inplace=True)\n",
    "X_all_train_scaled.drop('Amb', axis=1, inplace=True)\n"
   ]
  },
  {
   "cell_type": "code",
   "execution_count": 357,
   "metadata": {},
   "outputs": [],
   "source": [
    "model_3 = lm.fit(X_all_train_scaled, y_all_train)"
   ]
  },
  {
   "cell_type": "code",
   "execution_count": 358,
   "metadata": {},
   "outputs": [],
   "source": [
    "#Reseteo indice de X_test antes de concatenar las columnas escaladas\n",
    "X_all_test.index = pd.RangeIndex(len(X_all_test.index))\n",
    "\n",
    "#En X_test_numerico guardo los dats escalado\n",
    "X_all_test_numerico = scaler_all.transform(X_all_test[lista_numericos])\n",
    "\n",
    "df_all_t = pd.DataFrame(X_all_test_numerico)\n",
    "df_all_t.columns = ['surface_total_in_m2_scl', 'Amb_scl']\n",
    "\n",
    "#X_test_escaled tiene el DF orininal de test mas las dos variables escaladas\n",
    "X_all_test_scaled = pd.concat([df_all_t,X_all_test], axis=1)\n",
    "\n",
    "#Elimino las variables originales que escale\n",
    "X_all_test_scaled.drop('surface_total_in_m2', axis=1, inplace=True)\n",
    "X_all_test_scaled.drop('Amb', axis=1, inplace=True)"
   ]
  },
  {
   "cell_type": "code",
   "execution_count": 359,
   "metadata": {},
   "outputs": [
    {
     "name": "stdout",
     "output_type": "stream",
     "text": [
      "Score model_3: -641297.8973788033\n"
     ]
    }
   ],
   "source": [
    "print('Score model_3:', model_3.score(X_all_test_scaled, y_all_test))"
   ]
  },
  {
   "cell_type": "code",
   "execution_count": 20,
   "metadata": {},
   "outputs": [],
   "source": [
    "# Generamos un grid de $\\alpha$ para probar e instanciamos un particionador del Training Set \n",
    "# en K partes para realizar la validación cruzada\n",
    "\n",
    "al_ridge = np.linspace(0.001, 0.3, 300)\n",
    "al_lasso = np.linspace(0.1, 0.5, 300)\n",
    "kf = KFold(n_splits=5, shuffle=True, random_state=12)\n",
    "\n",
    "# Instanciamos los modelos\n",
    "\n",
    "lm = LinearRegression()\n",
    "lm_ridge_cv= RidgeCV(alphas=al_ridge, cv=kf, normalize=False)\n",
    "lm_lasso_cv = LassoCV(alphas=al_lasso, cv=kf, normalize=False)"
   ]
  },
  {
   "cell_type": "code",
   "execution_count": 21,
   "metadata": {},
   "outputs": [],
   "source": [
    "# Instanciamos los modelos Ridge y Lasso\n",
    "\n",
    "lm_ridge_cv= RidgeCV(alphas=al_ridge, cv=kf, normalize=False)\n",
    "lm_lasso_cv = LassoCV(alphas=al_lasso, cv=kf, normalize=False)"
   ]
  },
  {
   "cell_type": "code",
   "execution_count": null,
   "metadata": {},
   "outputs": [],
   "source": [
    "# Entrenamos los modemos\n",
    "\n",
    "lm_ridge_cv.fit(X_all_train, y_all_train)\n",
    "lm_lasso_cv.fit(X_all_train, y_all_train)\n"
   ]
  },
  {
   "cell_type": "code",
   "execution_count": 24,
   "metadata": {},
   "outputs": [
    {
     "name": "stdout",
     "output_type": "stream",
     "text": [
      "Score Train Ridge : 0.21\n",
      " Score Train Lasso : 0.21\n",
      "\n"
     ]
    }
   ],
   "source": [
    "print(\"Score Train Ridge : %.2f\\n\" % lm_ridge_cv.score(X_all_train, y_all_train),\n",
    "      \"Score Train Lasso : %.2f\\n\" %  lm_lasso_cv.score(X_all_train, y_all_train))"
   ]
  },
  {
   "cell_type": "code",
   "execution_count": null,
   "metadata": {},
   "outputs": [],
   "source": []
  }
 ],
 "metadata": {
  "kernelspec": {
   "display_name": "Python 3",
   "language": "python",
   "name": "python3"
  },
  "language_info": {
   "codemirror_mode": {
    "name": "ipython",
    "version": 3
   },
   "file_extension": ".py",
   "mimetype": "text/x-python",
   "name": "python",
   "nbconvert_exporter": "python",
   "pygments_lexer": "ipython3",
   "version": "3.7.3"
  }
 },
 "nbformat": 4,
 "nbformat_minor": 2
}
